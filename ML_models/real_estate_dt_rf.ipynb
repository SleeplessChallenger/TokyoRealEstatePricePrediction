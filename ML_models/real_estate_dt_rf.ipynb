{
 "cells": [
  {
   "cell_type": "code",
   "execution_count": 1,
   "id": "20abef9c",
   "metadata": {},
   "outputs": [],
   "source": [
    "import numpy as np\n",
    "import pandas as pd\n",
    "from matplotlib import pyplot as plt\n",
    "%matplotlib inline\n",
    "\n",
    "import seaborn as sns\n",
    "from sklearn.model_selection import train_test_split\n",
    "from sklearn.feature_extraction import DictVectorizer\n",
    "from sklearn.ensemble import RandomForestRegressor\n",
    "from sklearn.metrics import roc_auc_score\n",
    "from sklearn.tree import DecisionTreeRegressor"
   ]
  },
  {
   "cell_type": "code",
   "execution_count": 2,
   "id": "5ed0a16b",
   "metadata": {},
   "outputs": [],
   "source": [
    "df = pd.read_csv('real_estate_processed.csv', index_col='No')"
   ]
  },
  {
   "cell_type": "code",
   "execution_count": 3,
   "id": "2a8c4731",
   "metadata": {},
   "outputs": [],
   "source": [
    "from datetime import datetime\n",
    "\n",
    "df['age'] = datetime.now().year - df.buildingyear"
   ]
  },
  {
   "cell_type": "raw",
   "id": "ca992f43",
   "metadata": {},
   "source": [
    "df.to_csv('real_estate_processed.csv', index='No')"
   ]
  },
  {
   "cell_type": "code",
   "execution_count": 4,
   "id": "08537df4",
   "metadata": {},
   "outputs": [
    {
     "data": {
      "text/html": [
       "<div>\n",
       "<style scoped>\n",
       "    .dataframe tbody tr th:only-of-type {\n",
       "        vertical-align: middle;\n",
       "    }\n",
       "\n",
       "    .dataframe tbody tr th {\n",
       "        vertical-align: top;\n",
       "    }\n",
       "\n",
       "    .dataframe thead th {\n",
       "        text-align: right;\n",
       "    }\n",
       "</style>\n",
       "<table border=\"1\" class=\"dataframe\">\n",
       "  <thead>\n",
       "    <tr style=\"text-align: right;\">\n",
       "      <th></th>\n",
       "      <th>type</th>\n",
       "      <th>municipalitycode</th>\n",
       "      <th>prefecture</th>\n",
       "      <th>municipality</th>\n",
       "      <th>districtname</th>\n",
       "      <th>neareststation</th>\n",
       "      <th>timetoneareststation</th>\n",
       "      <th>tradeprice</th>\n",
       "      <th>frontageisgreaterflag</th>\n",
       "      <th>buildingyear</th>\n",
       "      <th>structure</th>\n",
       "      <th>use</th>\n",
       "      <th>cityplanning</th>\n",
       "      <th>coverageratio</th>\n",
       "      <th>floorarearatio</th>\n",
       "      <th>age</th>\n",
       "    </tr>\n",
       "    <tr>\n",
       "      <th>No</th>\n",
       "      <th></th>\n",
       "      <th></th>\n",
       "      <th></th>\n",
       "      <th></th>\n",
       "      <th></th>\n",
       "      <th></th>\n",
       "      <th></th>\n",
       "      <th></th>\n",
       "      <th></th>\n",
       "      <th></th>\n",
       "      <th></th>\n",
       "      <th></th>\n",
       "      <th></th>\n",
       "      <th></th>\n",
       "      <th></th>\n",
       "      <th></th>\n",
       "    </tr>\n",
       "  </thead>\n",
       "  <tbody>\n",
       "    <tr>\n",
       "      <th>1</th>\n",
       "      <td>pre-owned_condominiums</td>\n",
       "      <td>13101</td>\n",
       "      <td>tokyo</td>\n",
       "      <td>chiyoda_ward</td>\n",
       "      <td>iidabashi</td>\n",
       "      <td>iidabashi</td>\n",
       "      <td>4</td>\n",
       "      <td>40000000</td>\n",
       "      <td>False</td>\n",
       "      <td>2013</td>\n",
       "      <td>rc</td>\n",
       "      <td>house</td>\n",
       "      <td>commercial_zone</td>\n",
       "      <td>80</td>\n",
       "      <td>500</td>\n",
       "      <td>8</td>\n",
       "    </tr>\n",
       "    <tr>\n",
       "      <th>2</th>\n",
       "      <td>pre-owned_condominiums</td>\n",
       "      <td>13101</td>\n",
       "      <td>tokyo</td>\n",
       "      <td>chiyoda_ward</td>\n",
       "      <td>iidabashi</td>\n",
       "      <td>iidabashi</td>\n",
       "      <td>4</td>\n",
       "      <td>130000000</td>\n",
       "      <td>False</td>\n",
       "      <td>2007</td>\n",
       "      <td>rc</td>\n",
       "      <td>house</td>\n",
       "      <td>commercial_zone</td>\n",
       "      <td>80</td>\n",
       "      <td>500</td>\n",
       "      <td>14</td>\n",
       "    </tr>\n",
       "    <tr>\n",
       "      <th>3</th>\n",
       "      <td>residential_land(land_and_building)</td>\n",
       "      <td>13101</td>\n",
       "      <td>tokyo</td>\n",
       "      <td>chiyoda_ward</td>\n",
       "      <td>iidabashi</td>\n",
       "      <td>iidabashi</td>\n",
       "      <td>2</td>\n",
       "      <td>400000000</td>\n",
       "      <td>False</td>\n",
       "      <td>2018</td>\n",
       "      <td>s</td>\n",
       "      <td>office,_shop</td>\n",
       "      <td>commercial_zone</td>\n",
       "      <td>80</td>\n",
       "      <td>500</td>\n",
       "      <td>3</td>\n",
       "    </tr>\n",
       "    <tr>\n",
       "      <th>4</th>\n",
       "      <td>residential_land(land_and_building)</td>\n",
       "      <td>13101</td>\n",
       "      <td>tokyo</td>\n",
       "      <td>chiyoda_ward</td>\n",
       "      <td>iidabashi</td>\n",
       "      <td>iidabashi</td>\n",
       "      <td>1</td>\n",
       "      <td>180000000</td>\n",
       "      <td>False</td>\n",
       "      <td>1976</td>\n",
       "      <td>rc</td>\n",
       "      <td>housing_complex,_office</td>\n",
       "      <td>commercial_zone</td>\n",
       "      <td>80</td>\n",
       "      <td>700</td>\n",
       "      <td>45</td>\n",
       "    </tr>\n",
       "    <tr>\n",
       "      <th>5</th>\n",
       "      <td>pre-owned_condominiums</td>\n",
       "      <td>13101</td>\n",
       "      <td>tokyo</td>\n",
       "      <td>chiyoda_ward</td>\n",
       "      <td>iidabashi</td>\n",
       "      <td>iidabashi</td>\n",
       "      <td>4</td>\n",
       "      <td>100000000</td>\n",
       "      <td>False</td>\n",
       "      <td>2007</td>\n",
       "      <td>rc</td>\n",
       "      <td>house</td>\n",
       "      <td>commercial_zone</td>\n",
       "      <td>80</td>\n",
       "      <td>500</td>\n",
       "      <td>14</td>\n",
       "    </tr>\n",
       "  </tbody>\n",
       "</table>\n",
       "</div>"
      ],
      "text/plain": [
       "                                   type  municipalitycode prefecture  \\\n",
       "No                                                                     \n",
       "1                pre-owned_condominiums             13101      tokyo   \n",
       "2                pre-owned_condominiums             13101      tokyo   \n",
       "3   residential_land(land_and_building)             13101      tokyo   \n",
       "4   residential_land(land_and_building)             13101      tokyo   \n",
       "5                pre-owned_condominiums             13101      tokyo   \n",
       "\n",
       "    municipality districtname neareststation  timetoneareststation  \\\n",
       "No                                                                   \n",
       "1   chiyoda_ward    iidabashi      iidabashi                     4   \n",
       "2   chiyoda_ward    iidabashi      iidabashi                     4   \n",
       "3   chiyoda_ward    iidabashi      iidabashi                     2   \n",
       "4   chiyoda_ward    iidabashi      iidabashi                     1   \n",
       "5   chiyoda_ward    iidabashi      iidabashi                     4   \n",
       "\n",
       "    tradeprice  frontageisgreaterflag  buildingyear structure  \\\n",
       "No                                                              \n",
       "1     40000000                  False          2013        rc   \n",
       "2    130000000                  False          2007        rc   \n",
       "3    400000000                  False          2018         s   \n",
       "4    180000000                  False          1976        rc   \n",
       "5    100000000                  False          2007        rc   \n",
       "\n",
       "                        use     cityplanning  coverageratio  floorarearatio  \\\n",
       "No                                                                            \n",
       "1                     house  commercial_zone             80             500   \n",
       "2                     house  commercial_zone             80             500   \n",
       "3              office,_shop  commercial_zone             80             500   \n",
       "4   housing_complex,_office  commercial_zone             80             700   \n",
       "5                     house  commercial_zone             80             500   \n",
       "\n",
       "    age  \n",
       "No       \n",
       "1     8  \n",
       "2    14  \n",
       "3     3  \n",
       "4    45  \n",
       "5    14  "
      ]
     },
     "execution_count": 4,
     "metadata": {},
     "output_type": "execute_result"
    }
   ],
   "source": [
    "df.head(5)"
   ]
  },
  {
   "cell_type": "code",
   "execution_count": 5,
   "id": "a9c67a40",
   "metadata": {},
   "outputs": [
    {
     "data": {
      "text/plain": [
       "type                     0\n",
       "municipalitycode         0\n",
       "prefecture               0\n",
       "municipality             0\n",
       "districtname             0\n",
       "neareststation           0\n",
       "timetoneareststation     0\n",
       "tradeprice               0\n",
       "frontageisgreaterflag    0\n",
       "buildingyear             0\n",
       "structure                0\n",
       "use                      0\n",
       "cityplanning             0\n",
       "coverageratio            0\n",
       "floorarearatio           0\n",
       "age                      0\n",
       "dtype: int64"
      ]
     },
     "execution_count": 5,
     "metadata": {},
     "output_type": "execute_result"
    }
   ],
   "source": [
    "df.isnull().sum()"
   ]
  },
  {
   "cell_type": "markdown",
   "id": "a360a8b5",
   "metadata": {},
   "source": [
    "# Let's process data"
   ]
  },
  {
   "cell_type": "code",
   "execution_count": 6,
   "id": "1a547307",
   "metadata": {},
   "outputs": [],
   "source": [
    "full_train, df_test = train_test_split(df, random_state=4, test_size=0.2)\n",
    "df_train, df_valid = train_test_split(full_train, random_state=8, test_size=0.33)"
   ]
  },
  {
   "cell_type": "code",
   "execution_count": 7,
   "id": "9f875b88",
   "metadata": {},
   "outputs": [],
   "source": [
    "y_train = np.log1p(df_train.tradeprice.values)\n",
    "y_test = np.log1p(df_test.tradeprice.values)\n",
    "y_valid = np.log1p(df_valid.tradeprice.values)\n",
    "\n",
    "del df_train['tradeprice']\n",
    "del df_test['tradeprice']\n",
    "del df_valid['tradeprice']"
   ]
  },
  {
   "cell_type": "code",
   "execution_count": 8,
   "id": "659075dd",
   "metadata": {},
   "outputs": [
    {
     "data": {
      "text/plain": [
       "type                     object\n",
       "municipalitycode          int64\n",
       "prefecture               object\n",
       "municipality             object\n",
       "districtname             object\n",
       "neareststation           object\n",
       "timetoneareststation      int64\n",
       "tradeprice                int64\n",
       "frontageisgreaterflag      bool\n",
       "buildingyear              int64\n",
       "structure                object\n",
       "use                      object\n",
       "cityplanning             object\n",
       "coverageratio             int64\n",
       "floorarearatio            int64\n",
       "age                       int64\n",
       "dtype: object"
      ]
     },
     "execution_count": 8,
     "metadata": {},
     "output_type": "execute_result"
    }
   ],
   "source": [
    "df.dtypes"
   ]
  },
  {
   "cell_type": "code",
   "execution_count": 9,
   "id": "c3e4746d",
   "metadata": {},
   "outputs": [],
   "source": [
    "numerical = ['timetoneareststation', 'buildingyear', 'coverageratio', 'floorarearatio']\n",
    "\n",
    "categorical = ['type', 'municipality', 'districtname', 'neareststation',\n",
    "               'structure', 'use', 'cityplanning', 'municipalitycode', 'age']"
   ]
  },
  {
   "cell_type": "code",
   "execution_count": 10,
   "id": "0cc00249",
   "metadata": {},
   "outputs": [],
   "source": [
    "train_dict = df_train[numerical + categorical].to_dict(orient='records')\n",
    "valid_dict = df_valid[numerical + categorical].to_dict(orient='records') "
   ]
  },
  {
   "cell_type": "code",
   "execution_count": 11,
   "id": "b32e2c52",
   "metadata": {},
   "outputs": [],
   "source": [
    "dv = DictVectorizer(sparse=False)\n",
    "X_train = dv.fit_transform(train_dict)\n",
    "X_valid = dv.transform(valid_dict)"
   ]
  },
  {
   "cell_type": "markdown",
   "id": "01c1f20e",
   "metadata": {},
   "source": [
    "# Decision Tree"
   ]
  },
  {
   "cell_type": "code",
   "execution_count": null,
   "id": "17757fb3",
   "metadata": {},
   "outputs": [],
   "source": [
    "dtr = DecisionTreeRegressor()\n",
    "dtr.fit(X_train, y_train)"
   ]
  },
  {
   "cell_type": "code",
   "execution_count": 27,
   "id": "c9f60812",
   "metadata": {},
   "outputs": [],
   "source": [
    "y_pred_train = dtr.predict(X_train)\n",
    "y_pred_valid = dtr.predict(X_valid)"
   ]
  },
  {
   "cell_type": "code",
   "execution_count": 28,
   "id": "7e1ee857",
   "metadata": {},
   "outputs": [
    {
     "data": {
      "image/png": "[encoded data removed]",
      "text/plain": [
       "<Figure size 432x288 with 1 Axes>"
      ]
     },
     "metadata": {
      "needs_background": "light"
     },
     "output_type": "display_data"
    }
   ],
   "source": [
    "sns.histplot(y_pred_train, label='prediction', color='red')\n",
    "sns.histplot(y_train, label='target')\n",
    "plt.legend()\n",
    "plt.show()"
   ]
  },
  {
   "cell_type": "code",
   "execution_count": 29,
   "id": "a93b9cd6",
   "metadata": {},
   "outputs": [
    {
     "data": {
      "image/png": "[encoded data removed]",
      "text/plain": [
       "<Figure size 432x288 with 1 Axes>"
      ]
     },
     "metadata": {
      "needs_background": "light"
     },
     "output_type": "display_data"
    }
   ],
   "source": [
    "sns.histplot(y_pred_valid, label='prediction', color='red')\n",
    "sns.histplot(y_valid, label='target')\n",
    "plt.legend()\n",
    "plt.show()"
   ]
  },
  {
   "cell_type": "code",
   "execution_count": 17,
   "id": "960503ce",
   "metadata": {},
   "outputs": [],
   "source": [
    "from sklearn.metrics import mean_squared_error, r2_score\n",
    "\n",
    "def metrics(y_test, y_pred, X_train):\n",
    "    rmse = np.sqrt(mean_squared_error(y_test, y_pred))\n",
    "    r2 = r2_score(y_test, y_pred)\n",
    "    \n",
    "    n = y_pred.shape[0]\n",
    "    k = X_train.shape[1]\n",
    "    \n",
    "    adjusted = 1 - (1 - r2) * (n - 1) / (n - 1 - k)\n",
    "    return rmse, r2, adjusted\n"
   ]
  },
  {
   "cell_type": "code",
   "execution_count": 31,
   "id": "f97f9a2d",
   "metadata": {},
   "outputs": [
    {
     "name": "stdout",
     "output_type": "stream",
     "text": [
      "0.270010335633118 0.9144223675118258 0.9134778309546061\n",
      "0.7213307961543047 0.38621547299854575 0.37230303931455955\n"
     ]
    }
   ],
   "source": [
    "rmse, r2, r2_adjusted = metrics(y_train, y_pred_train, X_train)\n",
    "print(rmse, r2, r2_adjusted)\n",
    "\n",
    "rmse, r2, r2_adjusted = metrics(y_valid, y_pred_valid, X_valid)\n",
    "print(rmse, r2, r2_adjusted)"
   ]
  },
  {
   "cell_type": "markdown",
   "id": "0384fc7d",
   "metadata": {},
   "source": [
    "# Parameter tuning"
   ]
  },
  {
   "cell_type": "code",
   "execution_count": 33,
   "id": "a7d5aee5",
   "metadata": {},
   "outputs": [
    {
     "name": "stdout",
     "output_type": "stream",
     "text": [
      "1, 0.861, 0.1255, 0.1057\n",
      "5, 0.7107, 0.4042, 0.3907\n",
      "10, 0.6592, 0.4874, 0.4758\n",
      "20, 0.6538, 0.4958, 0.4843\n",
      "30, 0.6713, 0.4683, 0.4563\n",
      "None, 0.7199, 0.3886, 0.3748\n"
     ]
    }
   ],
   "source": [
    "for d in [1, 5, 10, 20, 30, None]:\n",
    "    dtr = DecisionTreeRegressor(max_depth=d, random_state=5)\n",
    "    dtr.fit(X_train, y_train)\n",
    "    y_pred = dtr.predict(X_valid)\n",
    "    rmse, r2, r2_ad = metrics(y_valid, y_pred, X_valid)\n",
    "    print(f\"{d}, {round(rmse, 4)}, {round(r2, 4)}, {round(r2_ad, 4)}\")"
   ]
  },
  {
   "cell_type": "code",
   "execution_count": 34,
   "id": "6912ba4e",
   "metadata": {},
   "outputs": [
    {
     "name": "stdout",
     "output_type": "stream",
     "text": [
      "None, 0.6538, 0.4958, 0.4843\n",
      "None, 0.6347, 0.5247, 0.514\n",
      "None, 0.6301, 0.5317, 0.5211\n",
      "None, 0.6301, 0.5316, 0.521\n",
      "None, 0.6292, 0.5331, 0.5225\n"
     ]
    }
   ],
   "source": [
    "# from previous we see that best depth is 20\n",
    "for leaf in [1, 5, 10, 15, 20]:\n",
    "    dtr = DecisionTreeRegressor(max_depth=20 , random_state=5, min_samples_leaf=leaf)\n",
    "    dtr.fit(X_train, y_train)\n",
    "    y_pred = dtr.predict(X_valid)\n",
    "    rmse, r2, r2_ad = metrics(y_valid, y_pred, X_valid)\n",
    "    print(f\"{leaf}, {round(rmse, 4)}, {round(r2, 4)}, {round(r2_ad, 4)}\")"
   ]
  },
  {
   "cell_type": "code",
   "execution_count": 35,
   "id": "7c1d67a4",
   "metadata": {},
   "outputs": [
    {
     "name": "stdout",
     "output_type": "stream",
     "text": [
      "None, 0.6292, 0.5331, 0.5225\n",
      "1, 0.9192, 0.0032, -0.0194\n",
      "5, 0.9145, 0.0134, -0.009\n",
      "10, 0.9147, 0.013, -0.0094\n",
      "20, 0.8865, 0.0729, 0.0518\n",
      "50, 0.7711, 0.2987, 0.2828\n"
     ]
    }
   ],
   "source": [
    "# with `min_samples_leaf` best case when it's 20\n",
    "# Last one is `max_features`\n",
    "for f in [None, 1, 5, 10, 20, 50]:\n",
    "    dtr = DecisionTreeRegressor(max_depth=20, min_samples_leaf=20,\n",
    "                                max_features=f, random_state=5)\n",
    "    dtr.fit(X_train, y_train)\n",
    "    y_pred = dtr.predict(X_valid)\n",
    "    rmse, r2, r2_ad = metrics(y_valid, y_pred, X_valid)\n",
    "    print(f\"{f}, {round(rmse, 4)}, {round(r2, 4)}, {round(r2_ad, 4)}\")"
   ]
  },
  {
   "cell_type": "markdown",
   "id": "fde735b7",
   "metadata": {},
   "source": [
    "# Final Decision Tree Regressor"
   ]
  },
  {
   "cell_type": "code",
   "execution_count": null,
   "id": "cb69b21b",
   "metadata": {},
   "outputs": [],
   "source": [
    "# Don't forget to add [numerical + categorical]"
   ]
  },
  {
   "cell_type": "code",
   "execution_count": 12,
   "id": "61f578c5",
   "metadata": {},
   "outputs": [],
   "source": [
    "y_full_train = np.log1p(full_train.tradeprice.values)\n",
    "\n",
    "del full_train['tradeprice']"
   ]
  },
  {
   "cell_type": "code",
   "execution_count": 13,
   "id": "1f27f687",
   "metadata": {},
   "outputs": [],
   "source": [
    "dict_full_train = full_train[numerical + categorical].to_dict(orient='records')\n",
    "dict_test = df_test[numerical + categorical].to_dict(orient='records')"
   ]
  },
  {
   "cell_type": "code",
   "execution_count": 14,
   "id": "c682b8b9",
   "metadata": {},
   "outputs": [],
   "source": [
    "dv = DictVectorizer(sparse=False)\n",
    "X_full_train = dv.fit_transform(dict_full_train)\n",
    "X_test = dv.transform(dict_test)"
   ]
  },
  {
   "cell_type": "code",
   "execution_count": 15,
   "id": "76ab03ba",
   "metadata": {},
   "outputs": [],
   "source": [
    "dtr = DecisionTreeRegressor(max_depth=20, min_samples_leaf=20,\n",
    "                            max_features=None, random_state=5)\n",
    "\n",
    "dtr.fit(X_full_train, y_full_train)\n",
    "final_prediction = dtr.predict(X_test)"
   ]
  },
  {
   "cell_type": "code",
   "execution_count": 18,
   "id": "246e2e31",
   "metadata": {},
   "outputs": [
    {
     "name": "stdout",
     "output_type": "stream",
     "text": [
      "0.6198, 0.5424, 0.5284\n"
     ]
    }
   ],
   "source": [
    "rmse, r2, r2_ad = metrics(y_test, final_prediction, X_test)\n",
    "\n",
    "print(f\"{round(rmse, 4)}, {round(r2, 4)}, {round(r2_ad, 4)}\")"
   ]
  },
  {
   "cell_type": "code",
   "execution_count": 115,
   "id": "fb3fd68e",
   "metadata": {},
   "outputs": [
    {
     "data": {
      "image/png": "[encoded data removed]",
      "text/plain": [
       "<Figure size 432x288 with 1 Axes>"
      ]
     },
     "metadata": {
      "needs_background": "light"
     },
     "output_type": "display_data"
    }
   ],
   "source": [
    "sns.histplot(final_prediction, label='prediction', color='red')\n",
    "sns.histplot(y_test, label='target')\n",
    "plt.legend()\n",
    "plt.show()"
   ]
  },
  {
   "cell_type": "markdown",
   "id": "a7c1a26a",
   "metadata": {},
   "source": [
    "# Check"
   ]
  },
  {
   "cell_type": "code",
   "execution_count": 111,
   "id": "2dd890c5",
   "metadata": {},
   "outputs": [],
   "source": [
    "import random\n",
    "\n",
    "def get_random(start=2500, end=320000):\n",
    "    return random.randint(start, end)"
   ]
  },
  {
   "cell_type": "code",
   "execution_count": 112,
   "id": "7769f1fd",
   "metadata": {},
   "outputs": [],
   "source": [
    "def calculate_difference(price, prediction):\n",
    "    result = (prediction / price) * 100\n",
    "    return round(result, 2)"
   ]
  },
  {
   "cell_type": "code",
   "execution_count": 113,
   "id": "ecc36337",
   "metadata": {},
   "outputs": [],
   "source": [
    "def check_fluctuation(dv, dtr):\n",
    "    new_df = df.copy()    \n",
    "    all_data = {}\n",
    "\n",
    "    # hasttable will 'eat-up' similar idx\n",
    "    # hence we'll get only unqiue ones\n",
    "    while len(all_data) != 20:\n",
    "        random_idx = get_random()\n",
    "        data = [df.iloc[random_idx].to_dict()]\n",
    "\n",
    "        X_test_result = dv.transform(data)\n",
    "        result = dtr.predict(X_test_result)[0]\n",
    "        price_prediction = np.expm1(result)\n",
    "        \n",
    "        tradeprice = data[0].get('tradeprice')\n",
    "        all_data[random_idx] = [tradeprice, round(price_prediction, 2),\n",
    "                                calculate_difference(tradeprice, price_prediction)]\n",
    "    \n",
    "    total = []\n",
    "    for value in all_data.values():\n",
    "        total.append(value[2])\n",
    "    \n",
    "    overall_percentage = sum(total) / len(total)\n",
    "    \n",
    "    print(f\"Overall percentage difference: {overall_percentage}\")\n",
    "    return all_data\n"
   ]
  },
  {
   "cell_type": "code",
   "execution_count": 114,
   "id": "484ef412",
   "metadata": {},
   "outputs": [
    {
     "name": "stdout",
     "output_type": "stream",
     "text": [
      "Overall percentage difference: 139.3315\n"
     ]
    },
    {
     "data": {
      "text/plain": [
       "{225280: [16000000, 32572402.85, 203.58],\n",
       " 269547: [59000000, 39707356.33, 67.3],\n",
       " 255981: [27000000, 32572402.85, 120.64],\n",
       " 58066: [190000000, 838717012.93, 441.43],\n",
       " 10049: [65000000, 92609003.72, 142.48],\n",
       " 135743: [94000000, 231619660.94, 246.4],\n",
       " 144715: [20000000, 9340435.16, 46.7],\n",
       " 265956: [25000000, 30356437.72, 121.43],\n",
       " 60526: [73000000, 42372575.57, 58.04],\n",
       " 253431: [11000000, 19907797.22, 180.98],\n",
       " 135891: [43000000, 26025044.31, 60.52],\n",
       " 49411: [600000000, 232180305.49, 38.7],\n",
       " 136952: [51000000, 69180361.6, 135.65],\n",
       " 221948: [23000000, 26025044.31, 113.15],\n",
       " 142493: [8900000, 15417012.3, 173.22],\n",
       " 175232: [17000000, 15966060.31, 93.92],\n",
       " 299993: [18000000, 29076326.32, 161.54],\n",
       " 67762: [13000000, 11862614.25, 91.25],\n",
       " 152741: [13000000, 30185705.18, 232.2],\n",
       " 100923: [140000000, 80506508.96, 57.5]}"
      ]
     },
     "execution_count": 114,
     "metadata": {},
     "output_type": "execute_result"
    }
   ],
   "source": [
    "check_fluctuation(dv, dtr)"
   ]
  },
  {
   "cell_type": "code",
   "execution_count": null,
   "id": "c1653c2c",
   "metadata": {},
   "outputs": [],
   "source": []
  }
 ],
 "metadata": {
  "kernelspec": {
   "display_name": "Python 3",
   "language": "python",
   "name": "python3"
  },
  "language_info": {
   "codemirror_mode": {
    "name": "ipython",
    "version": 3
   },
   "file_extension": ".py",
   "mimetype": "text/x-python",
   "name": "python",
   "nbconvert_exporter": "python",
   "pygments_lexer": "ipython3",
   "version": "3.8.10"
  }
 },
 "nbformat": 4,
 "nbformat_minor": 5
}
