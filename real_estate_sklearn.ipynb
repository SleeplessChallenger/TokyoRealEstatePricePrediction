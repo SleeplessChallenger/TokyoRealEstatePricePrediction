{
 "cells": [
  {
   "cell_type": "code",
   "execution_count": 103,
   "id": "aa5a49f8",
   "metadata": {},
   "outputs": [],
   "source": [
    "import pandas as pd\n",
    "import numpy as np\n",
    "import sklearn\n",
    "\n",
    "from matplotlib import pyplot as plt\n",
    "import seaborn as sns\n",
    "%matplotlib inline"
   ]
  },
  {
   "cell_type": "code",
   "execution_count": 104,
   "id": "a60d7da8",
   "metadata": {},
   "outputs": [],
   "source": [
    "df = pd.read_csv('Datasets/RealEstatePrices.csv', index_col='No')"
   ]
  },
  {
   "cell_type": "code",
   "execution_count": 105,
   "id": "425e6451",
   "metadata": {
    "scrolled": true
   },
   "outputs": [
    {
     "data": {
      "text/html": [
       "<div>\n",
       "<style scoped>\n",
       "    .dataframe tbody tr th:only-of-type {\n",
       "        vertical-align: middle;\n",
       "    }\n",
       "\n",
       "    .dataframe tbody tr th {\n",
       "        vertical-align: top;\n",
       "    }\n",
       "\n",
       "    .dataframe thead th {\n",
       "        text-align: right;\n",
       "    }\n",
       "</style>\n",
       "<table border=\"1\" class=\"dataframe\">\n",
       "  <thead>\n",
       "    <tr style=\"text-align: right;\">\n",
       "      <th></th>\n",
       "      <th>Type</th>\n",
       "      <th>MunicipalityCode</th>\n",
       "      <th>Prefecture</th>\n",
       "      <th>Municipality</th>\n",
       "      <th>DistrictName</th>\n",
       "      <th>NearestStation</th>\n",
       "      <th>TimeToNearestStation</th>\n",
       "      <th>TradePrice</th>\n",
       "      <th>FloorPlan</th>\n",
       "      <th>FrontageIsGreaterFlag</th>\n",
       "      <th>BuildingYear</th>\n",
       "      <th>Structure</th>\n",
       "      <th>Use</th>\n",
       "      <th>Purpose</th>\n",
       "      <th>CityPlanning</th>\n",
       "      <th>CoverageRatio</th>\n",
       "      <th>FloorAreaRatio</th>\n",
       "      <th>Year</th>\n",
       "      <th>Renovation</th>\n",
       "    </tr>\n",
       "    <tr>\n",
       "      <th>No</th>\n",
       "      <th></th>\n",
       "      <th></th>\n",
       "      <th></th>\n",
       "      <th></th>\n",
       "      <th></th>\n",
       "      <th></th>\n",
       "      <th></th>\n",
       "      <th></th>\n",
       "      <th></th>\n",
       "      <th></th>\n",
       "      <th></th>\n",
       "      <th></th>\n",
       "      <th></th>\n",
       "      <th></th>\n",
       "      <th></th>\n",
       "      <th></th>\n",
       "      <th></th>\n",
       "      <th></th>\n",
       "      <th></th>\n",
       "    </tr>\n",
       "  </thead>\n",
       "  <tbody>\n",
       "    <tr>\n",
       "      <th>1</th>\n",
       "      <td>Pre-owned Condominiums, etc.</td>\n",
       "      <td>13101</td>\n",
       "      <td>Tokyo</td>\n",
       "      <td>Chiyoda Ward</td>\n",
       "      <td>Iidabashi</td>\n",
       "      <td>Iidabashi</td>\n",
       "      <td>4</td>\n",
       "      <td>40000000</td>\n",
       "      <td>1LDK</td>\n",
       "      <td>False</td>\n",
       "      <td>2013.000000</td>\n",
       "      <td>RC</td>\n",
       "      <td>House</td>\n",
       "      <td>House</td>\n",
       "      <td>Commercial Zone</td>\n",
       "      <td>80.000000</td>\n",
       "      <td>500.000000</td>\n",
       "      <td>2019</td>\n",
       "      <td>Not yet</td>\n",
       "    </tr>\n",
       "    <tr>\n",
       "      <th>2</th>\n",
       "      <td>Pre-owned Condominiums, etc.</td>\n",
       "      <td>13101</td>\n",
       "      <td>Tokyo</td>\n",
       "      <td>Chiyoda Ward</td>\n",
       "      <td>Iidabashi</td>\n",
       "      <td>Iidabashi</td>\n",
       "      <td>4</td>\n",
       "      <td>130000000</td>\n",
       "      <td>3LDK</td>\n",
       "      <td>False</td>\n",
       "      <td>2007.000000</td>\n",
       "      <td>RC</td>\n",
       "      <td>NaN</td>\n",
       "      <td>Other</td>\n",
       "      <td>Commercial Zone</td>\n",
       "      <td>80.000000</td>\n",
       "      <td>500.000000</td>\n",
       "      <td>2019</td>\n",
       "      <td>Done</td>\n",
       "    </tr>\n",
       "    <tr>\n",
       "      <th>3</th>\n",
       "      <td>Residential Land(Land and Building)</td>\n",
       "      <td>13101</td>\n",
       "      <td>Tokyo</td>\n",
       "      <td>Chiyoda Ward</td>\n",
       "      <td>Iidabashi</td>\n",
       "      <td>Iidabashi</td>\n",
       "      <td>2</td>\n",
       "      <td>400000000</td>\n",
       "      <td>NaN</td>\n",
       "      <td>False</td>\n",
       "      <td>2018.000000</td>\n",
       "      <td>S</td>\n",
       "      <td>Office, Shop</td>\n",
       "      <td>Shop</td>\n",
       "      <td>Commercial Zone</td>\n",
       "      <td>80.000000</td>\n",
       "      <td>500.000000</td>\n",
       "      <td>2019</td>\n",
       "      <td>NaN</td>\n",
       "    </tr>\n",
       "    <tr>\n",
       "      <th>4</th>\n",
       "      <td>Residential Land(Land and Building)</td>\n",
       "      <td>13101</td>\n",
       "      <td>Tokyo</td>\n",
       "      <td>Chiyoda Ward</td>\n",
       "      <td>Iidabashi</td>\n",
       "      <td>Iidabashi</td>\n",
       "      <td>1</td>\n",
       "      <td>180000000</td>\n",
       "      <td>NaN</td>\n",
       "      <td>False</td>\n",
       "      <td>1976.000000</td>\n",
       "      <td>RC</td>\n",
       "      <td>Housing Complex, Office</td>\n",
       "      <td>NaN</td>\n",
       "      <td>Commercial Zone</td>\n",
       "      <td>80.000000</td>\n",
       "      <td>700.000000</td>\n",
       "      <td>2019</td>\n",
       "      <td>NaN</td>\n",
       "    </tr>\n",
       "    <tr>\n",
       "      <th>5</th>\n",
       "      <td>Pre-owned Condominiums, etc.</td>\n",
       "      <td>13101</td>\n",
       "      <td>Tokyo</td>\n",
       "      <td>Chiyoda Ward</td>\n",
       "      <td>Iidabashi</td>\n",
       "      <td>Iidabashi</td>\n",
       "      <td>4</td>\n",
       "      <td>100000000</td>\n",
       "      <td>2LDK</td>\n",
       "      <td>False</td>\n",
       "      <td>2007.000000</td>\n",
       "      <td>RC</td>\n",
       "      <td>House</td>\n",
       "      <td>House</td>\n",
       "      <td>Commercial Zone</td>\n",
       "      <td>80.000000</td>\n",
       "      <td>500.000000</td>\n",
       "      <td>2019</td>\n",
       "      <td>Done</td>\n",
       "    </tr>\n",
       "  </tbody>\n",
       "</table>\n",
       "</div>"
      ],
      "text/plain": [
       "                                   Type  MunicipalityCode Prefecture  \\\n",
       "No                                                                     \n",
       "1          Pre-owned Condominiums, etc.             13101      Tokyo   \n",
       "2          Pre-owned Condominiums, etc.             13101      Tokyo   \n",
       "3   Residential Land(Land and Building)             13101      Tokyo   \n",
       "4   Residential Land(Land and Building)             13101      Tokyo   \n",
       "5          Pre-owned Condominiums, etc.             13101      Tokyo   \n",
       "\n",
       "    Municipality DistrictName NearestStation TimeToNearestStation  TradePrice  \\\n",
       "No                                                                              \n",
       "1   Chiyoda Ward    Iidabashi      Iidabashi                    4    40000000   \n",
       "2   Chiyoda Ward    Iidabashi      Iidabashi                    4   130000000   \n",
       "3   Chiyoda Ward    Iidabashi      Iidabashi                    2   400000000   \n",
       "4   Chiyoda Ward    Iidabashi      Iidabashi                    1   180000000   \n",
       "5   Chiyoda Ward    Iidabashi      Iidabashi                    4   100000000   \n",
       "\n",
       "   FloorPlan  FrontageIsGreaterFlag  BuildingYear Structure  \\\n",
       "No                                                            \n",
       "1       1LDK                  False   2013.000000        RC   \n",
       "2       3LDK                  False   2007.000000        RC   \n",
       "3        NaN                  False   2018.000000         S   \n",
       "4        NaN                  False   1976.000000        RC   \n",
       "5       2LDK                  False   2007.000000        RC   \n",
       "\n",
       "                        Use Purpose     CityPlanning  CoverageRatio  \\\n",
       "No                                                                    \n",
       "1                     House   House  Commercial Zone      80.000000   \n",
       "2                       NaN   Other  Commercial Zone      80.000000   \n",
       "3              Office, Shop    Shop  Commercial Zone      80.000000   \n",
       "4   Housing Complex, Office     NaN  Commercial Zone      80.000000   \n",
       "5                     House   House  Commercial Zone      80.000000   \n",
       "\n",
       "    FloorAreaRatio  Year Renovation  \n",
       "No                                   \n",
       "1       500.000000  2019    Not yet  \n",
       "2       500.000000  2019       Done  \n",
       "3       500.000000  2019        NaN  \n",
       "4       700.000000  2019        NaN  \n",
       "5       500.000000  2019       Done  "
      ]
     },
     "execution_count": 105,
     "metadata": {},
     "output_type": "execute_result"
    }
   ],
   "source": [
    "df.head(5)"
   ]
  },
  {
   "cell_type": "markdown",
   "id": "5ec9e562",
   "metadata": {},
   "source": [
    "# First of all, all the preparation with data will be made and then we'll do the ML part"
   ]
  },
  {
   "cell_type": "code",
   "execution_count": 106,
   "id": "2dea1611",
   "metadata": {},
   "outputs": [
    {
     "data": {
      "text/plain": [
       "406575"
      ]
     },
     "execution_count": 106,
     "metadata": {},
     "output_type": "execute_result"
    }
   ],
   "source": [
    "len(df)"
   ]
  },
  {
   "cell_type": "code",
   "execution_count": 107,
   "id": "6387c87f",
   "metadata": {},
   "outputs": [
    {
     "data": {
      "text/html": [
       "<div>\n",
       "<style scoped>\n",
       "    .dataframe tbody tr th:only-of-type {\n",
       "        vertical-align: middle;\n",
       "    }\n",
       "\n",
       "    .dataframe tbody tr th {\n",
       "        vertical-align: top;\n",
       "    }\n",
       "\n",
       "    .dataframe thead th {\n",
       "        text-align: right;\n",
       "    }\n",
       "</style>\n",
       "<table border=\"1\" class=\"dataframe\">\n",
       "  <thead>\n",
       "    <tr style=\"text-align: right;\">\n",
       "      <th></th>\n",
       "      <th>type</th>\n",
       "      <th>municipalitycode</th>\n",
       "      <th>prefecture</th>\n",
       "      <th>municipality</th>\n",
       "      <th>districtname</th>\n",
       "      <th>neareststation</th>\n",
       "      <th>timetoneareststation</th>\n",
       "      <th>tradeprice</th>\n",
       "      <th>floorplan</th>\n",
       "      <th>frontageisgreaterflag</th>\n",
       "      <th>buildingyear</th>\n",
       "      <th>structure</th>\n",
       "      <th>use</th>\n",
       "      <th>purpose</th>\n",
       "      <th>cityplanning</th>\n",
       "      <th>coverageratio</th>\n",
       "      <th>floorarearatio</th>\n",
       "      <th>year</th>\n",
       "      <th>renovation</th>\n",
       "    </tr>\n",
       "    <tr>\n",
       "      <th>No</th>\n",
       "      <th></th>\n",
       "      <th></th>\n",
       "      <th></th>\n",
       "      <th></th>\n",
       "      <th></th>\n",
       "      <th></th>\n",
       "      <th></th>\n",
       "      <th></th>\n",
       "      <th></th>\n",
       "      <th></th>\n",
       "      <th></th>\n",
       "      <th></th>\n",
       "      <th></th>\n",
       "      <th></th>\n",
       "      <th></th>\n",
       "      <th></th>\n",
       "      <th></th>\n",
       "      <th></th>\n",
       "      <th></th>\n",
       "    </tr>\n",
       "  </thead>\n",
       "  <tbody>\n",
       "    <tr>\n",
       "      <th>1</th>\n",
       "      <td>Pre-owned Condominiums, etc.</td>\n",
       "      <td>13101</td>\n",
       "      <td>Tokyo</td>\n",
       "      <td>Chiyoda Ward</td>\n",
       "      <td>Iidabashi</td>\n",
       "      <td>Iidabashi</td>\n",
       "      <td>4</td>\n",
       "      <td>40000000</td>\n",
       "      <td>1LDK</td>\n",
       "      <td>False</td>\n",
       "      <td>2013.000000</td>\n",
       "      <td>RC</td>\n",
       "      <td>House</td>\n",
       "      <td>House</td>\n",
       "      <td>Commercial Zone</td>\n",
       "      <td>80.000000</td>\n",
       "      <td>500.000000</td>\n",
       "      <td>2019</td>\n",
       "      <td>Not yet</td>\n",
       "    </tr>\n",
       "    <tr>\n",
       "      <th>2</th>\n",
       "      <td>Pre-owned Condominiums, etc.</td>\n",
       "      <td>13101</td>\n",
       "      <td>Tokyo</td>\n",
       "      <td>Chiyoda Ward</td>\n",
       "      <td>Iidabashi</td>\n",
       "      <td>Iidabashi</td>\n",
       "      <td>4</td>\n",
       "      <td>130000000</td>\n",
       "      <td>3LDK</td>\n",
       "      <td>False</td>\n",
       "      <td>2007.000000</td>\n",
       "      <td>RC</td>\n",
       "      <td>NaN</td>\n",
       "      <td>Other</td>\n",
       "      <td>Commercial Zone</td>\n",
       "      <td>80.000000</td>\n",
       "      <td>500.000000</td>\n",
       "      <td>2019</td>\n",
       "      <td>Done</td>\n",
       "    </tr>\n",
       "    <tr>\n",
       "      <th>3</th>\n",
       "      <td>Residential Land(Land and Building)</td>\n",
       "      <td>13101</td>\n",
       "      <td>Tokyo</td>\n",
       "      <td>Chiyoda Ward</td>\n",
       "      <td>Iidabashi</td>\n",
       "      <td>Iidabashi</td>\n",
       "      <td>2</td>\n",
       "      <td>400000000</td>\n",
       "      <td>NaN</td>\n",
       "      <td>False</td>\n",
       "      <td>2018.000000</td>\n",
       "      <td>S</td>\n",
       "      <td>Office, Shop</td>\n",
       "      <td>Shop</td>\n",
       "      <td>Commercial Zone</td>\n",
       "      <td>80.000000</td>\n",
       "      <td>500.000000</td>\n",
       "      <td>2019</td>\n",
       "      <td>NaN</td>\n",
       "    </tr>\n",
       "  </tbody>\n",
       "</table>\n",
       "</div>"
      ],
      "text/plain": [
       "                                   type  municipalitycode prefecture  \\\n",
       "No                                                                     \n",
       "1          Pre-owned Condominiums, etc.             13101      Tokyo   \n",
       "2          Pre-owned Condominiums, etc.             13101      Tokyo   \n",
       "3   Residential Land(Land and Building)             13101      Tokyo   \n",
       "\n",
       "    municipality districtname neareststation timetoneareststation  tradeprice  \\\n",
       "No                                                                              \n",
       "1   Chiyoda Ward    Iidabashi      Iidabashi                    4    40000000   \n",
       "2   Chiyoda Ward    Iidabashi      Iidabashi                    4   130000000   \n",
       "3   Chiyoda Ward    Iidabashi      Iidabashi                    2   400000000   \n",
       "\n",
       "   floorplan  frontageisgreaterflag  buildingyear structure           use  \\\n",
       "No                                                                          \n",
       "1       1LDK                  False   2013.000000        RC         House   \n",
       "2       3LDK                  False   2007.000000        RC           NaN   \n",
       "3        NaN                  False   2018.000000         S  Office, Shop   \n",
       "\n",
       "   purpose     cityplanning  coverageratio  floorarearatio  year renovation  \n",
       "No                                                                           \n",
       "1    House  Commercial Zone      80.000000      500.000000  2019    Not yet  \n",
       "2    Other  Commercial Zone      80.000000      500.000000  2019       Done  \n",
       "3     Shop  Commercial Zone      80.000000      500.000000  2019        NaN  "
      ]
     },
     "execution_count": 107,
     "metadata": {},
     "output_type": "execute_result"
    }
   ],
   "source": [
    "# to make columns consistent\n",
    "df.columns = df.columns.str.lower().str.replace(\" \", \"_\")\n",
    "df.head(3)"
   ]
  },
  {
   "cell_type": "code",
   "execution_count": 108,
   "id": "81d47938",
   "metadata": {},
   "outputs": [],
   "source": [
    "# now let's make all the data consistent as well\n",
    "cols = list(df.dtypes[df.dtypes == 'object'].index)\n",
    "\n",
    "for col in cols:\n",
    "    df[col] = df[col].str.lower().str.replace(\" \", \"_\")"
   ]
  },
  {
   "cell_type": "code",
   "execution_count": 109,
   "id": "1a87cfb8",
   "metadata": {},
   "outputs": [
    {
     "data": {
      "text/html": [
       "<div>\n",
       "<style scoped>\n",
       "    .dataframe tbody tr th:only-of-type {\n",
       "        vertical-align: middle;\n",
       "    }\n",
       "\n",
       "    .dataframe tbody tr th {\n",
       "        vertical-align: top;\n",
       "    }\n",
       "\n",
       "    .dataframe thead th {\n",
       "        text-align: right;\n",
       "    }\n",
       "</style>\n",
       "<table border=\"1\" class=\"dataframe\">\n",
       "  <thead>\n",
       "    <tr style=\"text-align: right;\">\n",
       "      <th></th>\n",
       "      <th>type</th>\n",
       "      <th>municipalitycode</th>\n",
       "      <th>prefecture</th>\n",
       "      <th>municipality</th>\n",
       "      <th>districtname</th>\n",
       "      <th>neareststation</th>\n",
       "      <th>timetoneareststation</th>\n",
       "      <th>tradeprice</th>\n",
       "      <th>floorplan</th>\n",
       "      <th>frontageisgreaterflag</th>\n",
       "      <th>buildingyear</th>\n",
       "      <th>structure</th>\n",
       "      <th>use</th>\n",
       "      <th>purpose</th>\n",
       "      <th>cityplanning</th>\n",
       "      <th>coverageratio</th>\n",
       "      <th>floorarearatio</th>\n",
       "      <th>year</th>\n",
       "      <th>renovation</th>\n",
       "    </tr>\n",
       "    <tr>\n",
       "      <th>No</th>\n",
       "      <th></th>\n",
       "      <th></th>\n",
       "      <th></th>\n",
       "      <th></th>\n",
       "      <th></th>\n",
       "      <th></th>\n",
       "      <th></th>\n",
       "      <th></th>\n",
       "      <th></th>\n",
       "      <th></th>\n",
       "      <th></th>\n",
       "      <th></th>\n",
       "      <th></th>\n",
       "      <th></th>\n",
       "      <th></th>\n",
       "      <th></th>\n",
       "      <th></th>\n",
       "      <th></th>\n",
       "      <th></th>\n",
       "    </tr>\n",
       "  </thead>\n",
       "  <tbody>\n",
       "    <tr>\n",
       "      <th>1</th>\n",
       "      <td>pre-owned_condominiums,_etc.</td>\n",
       "      <td>13101</td>\n",
       "      <td>tokyo</td>\n",
       "      <td>chiyoda_ward</td>\n",
       "      <td>iidabashi</td>\n",
       "      <td>iidabashi</td>\n",
       "      <td>4</td>\n",
       "      <td>40000000</td>\n",
       "      <td>1ldk</td>\n",
       "      <td>False</td>\n",
       "      <td>2013.000000</td>\n",
       "      <td>rc</td>\n",
       "      <td>house</td>\n",
       "      <td>house</td>\n",
       "      <td>commercial_zone</td>\n",
       "      <td>80.000000</td>\n",
       "      <td>500.000000</td>\n",
       "      <td>2019</td>\n",
       "      <td>not_yet</td>\n",
       "    </tr>\n",
       "    <tr>\n",
       "      <th>2</th>\n",
       "      <td>pre-owned_condominiums,_etc.</td>\n",
       "      <td>13101</td>\n",
       "      <td>tokyo</td>\n",
       "      <td>chiyoda_ward</td>\n",
       "      <td>iidabashi</td>\n",
       "      <td>iidabashi</td>\n",
       "      <td>4</td>\n",
       "      <td>130000000</td>\n",
       "      <td>3ldk</td>\n",
       "      <td>False</td>\n",
       "      <td>2007.000000</td>\n",
       "      <td>rc</td>\n",
       "      <td>NaN</td>\n",
       "      <td>other</td>\n",
       "      <td>commercial_zone</td>\n",
       "      <td>80.000000</td>\n",
       "      <td>500.000000</td>\n",
       "      <td>2019</td>\n",
       "      <td>done</td>\n",
       "    </tr>\n",
       "    <tr>\n",
       "      <th>3</th>\n",
       "      <td>residential_land(land_and_building)</td>\n",
       "      <td>13101</td>\n",
       "      <td>tokyo</td>\n",
       "      <td>chiyoda_ward</td>\n",
       "      <td>iidabashi</td>\n",
       "      <td>iidabashi</td>\n",
       "      <td>2</td>\n",
       "      <td>400000000</td>\n",
       "      <td>NaN</td>\n",
       "      <td>False</td>\n",
       "      <td>2018.000000</td>\n",
       "      <td>s</td>\n",
       "      <td>office,_shop</td>\n",
       "      <td>shop</td>\n",
       "      <td>commercial_zone</td>\n",
       "      <td>80.000000</td>\n",
       "      <td>500.000000</td>\n",
       "      <td>2019</td>\n",
       "      <td>NaN</td>\n",
       "    </tr>\n",
       "    <tr>\n",
       "      <th>4</th>\n",
       "      <td>residential_land(land_and_building)</td>\n",
       "      <td>13101</td>\n",
       "      <td>tokyo</td>\n",
       "      <td>chiyoda_ward</td>\n",
       "      <td>iidabashi</td>\n",
       "      <td>iidabashi</td>\n",
       "      <td>1</td>\n",
       "      <td>180000000</td>\n",
       "      <td>NaN</td>\n",
       "      <td>False</td>\n",
       "      <td>1976.000000</td>\n",
       "      <td>rc</td>\n",
       "      <td>housing_complex,_office</td>\n",
       "      <td>NaN</td>\n",
       "      <td>commercial_zone</td>\n",
       "      <td>80.000000</td>\n",
       "      <td>700.000000</td>\n",
       "      <td>2019</td>\n",
       "      <td>NaN</td>\n",
       "    </tr>\n",
       "    <tr>\n",
       "      <th>5</th>\n",
       "      <td>pre-owned_condominiums,_etc.</td>\n",
       "      <td>13101</td>\n",
       "      <td>tokyo</td>\n",
       "      <td>chiyoda_ward</td>\n",
       "      <td>iidabashi</td>\n",
       "      <td>iidabashi</td>\n",
       "      <td>4</td>\n",
       "      <td>100000000</td>\n",
       "      <td>2ldk</td>\n",
       "      <td>False</td>\n",
       "      <td>2007.000000</td>\n",
       "      <td>rc</td>\n",
       "      <td>house</td>\n",
       "      <td>house</td>\n",
       "      <td>commercial_zone</td>\n",
       "      <td>80.000000</td>\n",
       "      <td>500.000000</td>\n",
       "      <td>2019</td>\n",
       "      <td>done</td>\n",
       "    </tr>\n",
       "  </tbody>\n",
       "</table>\n",
       "</div>"
      ],
      "text/plain": [
       "                                   type  municipalitycode prefecture  \\\n",
       "No                                                                     \n",
       "1          pre-owned_condominiums,_etc.             13101      tokyo   \n",
       "2          pre-owned_condominiums,_etc.             13101      tokyo   \n",
       "3   residential_land(land_and_building)             13101      tokyo   \n",
       "4   residential_land(land_and_building)             13101      tokyo   \n",
       "5          pre-owned_condominiums,_etc.             13101      tokyo   \n",
       "\n",
       "    municipality districtname neareststation timetoneareststation  tradeprice  \\\n",
       "No                                                                              \n",
       "1   chiyoda_ward    iidabashi      iidabashi                    4    40000000   \n",
       "2   chiyoda_ward    iidabashi      iidabashi                    4   130000000   \n",
       "3   chiyoda_ward    iidabashi      iidabashi                    2   400000000   \n",
       "4   chiyoda_ward    iidabashi      iidabashi                    1   180000000   \n",
       "5   chiyoda_ward    iidabashi      iidabashi                    4   100000000   \n",
       "\n",
       "   floorplan  frontageisgreaterflag  buildingyear structure  \\\n",
       "No                                                            \n",
       "1       1ldk                  False   2013.000000        rc   \n",
       "2       3ldk                  False   2007.000000        rc   \n",
       "3        NaN                  False   2018.000000         s   \n",
       "4        NaN                  False   1976.000000        rc   \n",
       "5       2ldk                  False   2007.000000        rc   \n",
       "\n",
       "                        use purpose     cityplanning  coverageratio  \\\n",
       "No                                                                    \n",
       "1                     house   house  commercial_zone      80.000000   \n",
       "2                       NaN   other  commercial_zone      80.000000   \n",
       "3              office,_shop    shop  commercial_zone      80.000000   \n",
       "4   housing_complex,_office     NaN  commercial_zone      80.000000   \n",
       "5                     house   house  commercial_zone      80.000000   \n",
       "\n",
       "    floorarearatio  year renovation  \n",
       "No                                   \n",
       "1       500.000000  2019    not_yet  \n",
       "2       500.000000  2019       done  \n",
       "3       500.000000  2019        NaN  \n",
       "4       700.000000  2019        NaN  \n",
       "5       500.000000  2019       done  "
      ]
     },
     "execution_count": 109,
     "metadata": {},
     "output_type": "execute_result"
    }
   ],
   "source": [
    "df.head(5)"
   ]
  },
  {
   "cell_type": "code",
   "execution_count": 110,
   "id": "42f5feb7",
   "metadata": {},
   "outputs": [
    {
     "data": {
      "text/plain": [
       "type                      object\n",
       "municipalitycode           int64\n",
       "prefecture                object\n",
       "municipality              object\n",
       "districtname              object\n",
       "neareststation            object\n",
       "timetoneareststation      object\n",
       "tradeprice                 int64\n",
       "floorplan                 object\n",
       "frontageisgreaterflag       bool\n",
       "buildingyear             float64\n",
       "structure                 object\n",
       "use                       object\n",
       "purpose                   object\n",
       "cityplanning              object\n",
       "coverageratio            float64\n",
       "floorarearatio           float64\n",
       "year                       int64\n",
       "renovation                object\n",
       "dtype: object"
      ]
     },
     "execution_count": 110,
     "metadata": {},
     "output_type": "execute_result"
    }
   ],
   "source": [
    "df.dtypes"
   ]
  },
  {
   "cell_type": "markdown",
   "id": "1f648453",
   "metadata": {},
   "source": [
    "# After trials I've concluded that 0 gives better result than mean()"
   ]
  },
  {
   "cell_type": "code",
   "execution_count": 111,
   "id": "f6e0071e",
   "metadata": {},
   "outputs": [],
   "source": [
    "# let's convert some of the types and then fill missing data\n",
    "df.timetoneareststation = pd.to_numeric(df.timetoneareststation, errors='coerce')\n",
    "df.timetoneareststation = df.timetoneareststation.fillna(0)\n",
    "# df.timetoneareststation = df.timetoneareststation.fillna(8.8)\n",
    "\n",
    "df[['buildingyear', 'coverageratio', 'floorarearatio']] = df[['buildingyear', 'coverageratio', 'floorarearatio']].fillna(0)\n",
    "df[['buildingyear', 'coverageratio', 'floorarearatio', 'timetoneareststation']] = df[['buildingyear',\n",
    "'coverageratio', 'floorarearatio', 'timetoneareststation']].astype(int)"
   ]
  },
  {
   "cell_type": "code",
   "execution_count": 112,
   "id": "a43cf75c",
   "metadata": {},
   "outputs": [
    {
     "data": {
      "text/plain": [
       "25092"
      ]
     },
     "execution_count": 112,
     "metadata": {},
     "output_type": "execute_result"
    }
   ],
   "source": [
    "len(df.timetoneareststation[df.timetoneareststation == 0])"
   ]
  },
  {
   "cell_type": "code",
   "execution_count": 113,
   "id": "870620a7",
   "metadata": {},
   "outputs": [
    {
     "data": {
      "text/plain": [
       "type                          0\n",
       "municipalitycode              0\n",
       "prefecture                    0\n",
       "municipality                  0\n",
       "districtname                246\n",
       "neareststation             1728\n",
       "timetoneareststation          0\n",
       "tradeprice                    0\n",
       "floorplan                228444\n",
       "frontageisgreaterflag         0\n",
       "buildingyear                  0\n",
       "structure                 88218\n",
       "use                       97885\n",
       "purpose                  248844\n",
       "cityplanning               3826\n",
       "coverageratio                 0\n",
       "floorarearatio                0\n",
       "year                          0\n",
       "renovation               240074\n",
       "dtype: int64"
      ]
     },
     "execution_count": 113,
     "metadata": {},
     "output_type": "execute_result"
    }
   ],
   "source": [
    "df.isnull().sum()"
   ]
  },
  {
   "cell_type": "code",
   "execution_count": 114,
   "id": "3c10487a",
   "metadata": {},
   "outputs": [],
   "source": [
    "# we'll remove `floorplan` and `purpose` as they have too many missing values\n",
    "df.drop(['floorplan', 'purpose', 'renovation', 'year'], axis=1, inplace=True)"
   ]
  },
  {
   "cell_type": "code",
   "execution_count": 115,
   "id": "bf39a8bf",
   "metadata": {},
   "outputs": [
    {
     "data": {
      "text/plain": [
       "type                         0\n",
       "municipalitycode             0\n",
       "prefecture                   0\n",
       "municipality                 0\n",
       "districtname               246\n",
       "neareststation            1728\n",
       "timetoneareststation         0\n",
       "tradeprice                   0\n",
       "frontageisgreaterflag        0\n",
       "buildingyear                 0\n",
       "structure                88218\n",
       "use                      97885\n",
       "cityplanning              3826\n",
       "coverageratio                0\n",
       "floorarearatio               0\n",
       "dtype: int64"
      ]
     },
     "execution_count": 115,
     "metadata": {},
     "output_type": "execute_result"
    }
   ],
   "source": [
    "df.isnull().sum()"
   ]
  },
  {
   "cell_type": "markdown",
   "id": "62bad6f6",
   "metadata": {},
   "source": [
    "<h3>\n",
    "    Below let's observe most frequent values from particular columns\n",
    "</h3>"
   ]
  },
  {
   "cell_type": "code",
   "execution_count": 116,
   "id": "1e811004",
   "metadata": {},
   "outputs": [
    {
     "data": {
      "text/plain": [
       "honcho                 2519\n",
       "chuo                   2424\n",
       "kameido                2124\n",
       "sakaecho               1563\n",
       "shimmachi              1517\n",
       "                       ... \n",
       "aza_nagumiyama            1\n",
       "nishioizumimachi          1\n",
       "hizato                    1\n",
       "tsukudocho                1\n",
       "ichigayatakajomachi       1\n",
       "Name: districtname, Length: 1448, dtype: int64"
      ]
     },
     "execution_count": 116,
     "metadata": {},
     "output_type": "execute_result"
    }
   ],
   "source": [
    "df['districtname'].value_counts()"
   ]
  },
  {
   "cell_type": "code",
   "execution_count": 117,
   "id": "9345ba1d",
   "metadata": {},
   "outputs": [
    {
     "data": {
      "text/plain": [
       "hachioji          3769\n",
       "oizumigakuen      3338\n",
       "shinkoiwa         3306\n",
       "kanamachi         2598\n",
       "mitaka            2456\n",
       "                  ... \n",
       "yuenchinishi         1\n",
       "musashikosugi        1\n",
       "tachikawakita        1\n",
       "tokyo_teleport       1\n",
       "aomi_(tokyo)         1\n",
       "Name: neareststation, Length: 657, dtype: int64"
      ]
     },
     "execution_count": 117,
     "metadata": {},
     "output_type": "execute_result"
    }
   ],
   "source": [
    "df['neareststation'].value_counts()"
   ]
  },
  {
   "cell_type": "code",
   "execution_count": 118,
   "id": "d23194e6",
   "metadata": {},
   "outputs": [
    {
     "data": {
      "text/plain": [
       "category_i_exclusively_low-story_residential_zone       101100\n",
       "commercial_zone                                          71497\n",
       "category_i_exclusively_medium-high_residential_zone      57453\n",
       "quasi-industrial_zone                                    56229\n",
       "category_i_residential_zone                              44173\n",
       "neighborhood_commercial_zone                             38588\n",
       "category_ii_exclusively_medium-high_residential_zone      9925\n",
       "category_ii_residential_zone                              8166\n",
       "industrial_zone                                           5535\n",
       "quasi-residential_zone                                    5402\n",
       "category_ii_exclusively_low-story_residential_zone        2895\n",
       "non-divided_city_planning_area                             671\n",
       "urbanization_control_area                                  655\n",
       "exclusively_industrial_zone                                301\n",
       "outside_city_planning_area                                 152\n",
       "quasi-city_planning_area                                     7\n",
       "Name: cityplanning, dtype: int64"
      ]
     },
     "execution_count": 118,
     "metadata": {},
     "output_type": "execute_result"
    }
   ],
   "source": [
    "df['cityplanning'].value_counts()"
   ]
  },
  {
   "cell_type": "code",
   "execution_count": 119,
   "id": "bdbcf066",
   "metadata": {},
   "outputs": [],
   "source": [
    "# Let's fill `districtname`, `neareststation`, `cityplanning` with most frequent values\n",
    "df['districtname'].fillna(inplace=True, value='honcho')\n",
    "df['neareststation'].fillna(inplace=True, value='hachioji')\n",
    "df['cityplanning'].fillna(inplace=True, value='category_i_exclusively_low-story_residential_zone')"
   ]
  },
  {
   "cell_type": "code",
   "execution_count": 120,
   "id": "0a39dc2c",
   "metadata": {},
   "outputs": [],
   "source": [
    "df['structure'].fillna(inplace=True, value='rc')\n",
    "df['use'].fillna(inplace=True, value='house')"
   ]
  },
  {
   "cell_type": "code",
   "execution_count": 121,
   "id": "e7cf0fd3",
   "metadata": {},
   "outputs": [
    {
     "data": {
      "text/plain": [
       "type                     0\n",
       "municipalitycode         0\n",
       "prefecture               0\n",
       "municipality             0\n",
       "districtname             0\n",
       "neareststation           0\n",
       "timetoneareststation     0\n",
       "tradeprice               0\n",
       "frontageisgreaterflag    0\n",
       "buildingyear             0\n",
       "structure                0\n",
       "use                      0\n",
       "cityplanning             0\n",
       "coverageratio            0\n",
       "floorarearatio           0\n",
       "dtype: int64"
      ]
     },
     "execution_count": 121,
     "metadata": {},
     "output_type": "execute_result"
    }
   ],
   "source": [
    "df.isnull().sum()"
   ]
  },
  {
   "cell_type": "markdown",
   "id": "a46e516b",
   "metadata": {},
   "source": [
    "<h3>\n",
    "   Now let's observe our data to see how we can change values to make them more malleable\n",
    "</h3>"
   ]
  },
  {
   "cell_type": "code",
   "execution_count": 122,
   "id": "4b785a14",
   "metadata": {},
   "outputs": [
    {
     "data": {
      "text/plain": [
       "pre-owned_condominiums,_etc.           184331\n",
       "residential_land(land_and_building)    142201\n",
       "residential_land(land_only)             79503\n",
       "forest_land                               447\n",
       "agricultural_land                          93\n",
       "Name: type, dtype: int64"
      ]
     },
     "execution_count": 122,
     "metadata": {},
     "output_type": "execute_result"
    }
   ],
   "source": [
    "df.type.value_counts()\n",
    "# after investigating we see that `pre-owned_condominiums,_etc.` is better to tweak to remove that\n",
    "# nagging \"_etc\""
   ]
  },
  {
   "cell_type": "code",
   "execution_count": 123,
   "id": "be8b5cb9",
   "metadata": {},
   "outputs": [],
   "source": [
    "df['type'] = df['type'].replace({'pre-owned_condominiums,_etc.': 'pre-owned_condominiums'})"
   ]
  },
  {
   "cell_type": "code",
   "execution_count": 124,
   "id": "5a59e32f",
   "metadata": {},
   "outputs": [
    {
     "data": {
      "text/plain": [
       "pre-owned_condominiums                 184331\n",
       "residential_land(land_and_building)    142201\n",
       "residential_land(land_only)             79503\n",
       "forest_land                               447\n",
       "agricultural_land                          93\n",
       "Name: type, dtype: int64"
      ]
     },
     "execution_count": 124,
     "metadata": {},
     "output_type": "execute_result"
    }
   ],
   "source": [
    "df['type'].value_counts()"
   ]
  },
  {
   "cell_type": "code",
   "execution_count": 125,
   "id": "0038cb1a",
   "metadata": {},
   "outputs": [],
   "source": [
    "pd.set_option('float_format', '{:f}'.format)"
   ]
  },
  {
   "cell_type": "code",
   "execution_count": 126,
   "id": "5d7392a9",
   "metadata": {},
   "outputs": [
    {
     "data": {
      "text/html": [
       "<div>\n",
       "<style scoped>\n",
       "    .dataframe tbody tr th:only-of-type {\n",
       "        vertical-align: middle;\n",
       "    }\n",
       "\n",
       "    .dataframe tbody tr th {\n",
       "        vertical-align: top;\n",
       "    }\n",
       "\n",
       "    .dataframe thead th {\n",
       "        text-align: right;\n",
       "    }\n",
       "</style>\n",
       "<table border=\"1\" class=\"dataframe\">\n",
       "  <thead>\n",
       "    <tr style=\"text-align: right;\">\n",
       "      <th></th>\n",
       "      <th>municipalitycode</th>\n",
       "      <th>timetoneareststation</th>\n",
       "      <th>tradeprice</th>\n",
       "      <th>buildingyear</th>\n",
       "      <th>coverageratio</th>\n",
       "      <th>floorarearatio</th>\n",
       "    </tr>\n",
       "  </thead>\n",
       "  <tbody>\n",
       "    <tr>\n",
       "      <th>count</th>\n",
       "      <td>406575.000000</td>\n",
       "      <td>406575.000000</td>\n",
       "      <td>406575.000000</td>\n",
       "      <td>406575.000000</td>\n",
       "      <td>406575.000000</td>\n",
       "      <td>406575.000000</td>\n",
       "    </tr>\n",
       "    <tr>\n",
       "      <th>mean</th>\n",
       "      <td>13140.000000</td>\n",
       "      <td>9.000000</td>\n",
       "      <td>65590699.000000</td>\n",
       "      <td>1544.000000</td>\n",
       "      <td>61.000000</td>\n",
       "      <td>262.000000</td>\n",
       "    </tr>\n",
       "    <tr>\n",
       "      <th>std</th>\n",
       "      <td>46.000000</td>\n",
       "      <td>6.000000</td>\n",
       "      <td>309289519.000000</td>\n",
       "      <td>837.000000</td>\n",
       "      <td>15.000000</td>\n",
       "      <td>162.000000</td>\n",
       "    </tr>\n",
       "    <tr>\n",
       "      <th>min</th>\n",
       "      <td>13101.000000</td>\n",
       "      <td>0.000000</td>\n",
       "      <td>500.000000</td>\n",
       "      <td>0.000000</td>\n",
       "      <td>0.000000</td>\n",
       "      <td>0.000000</td>\n",
       "    </tr>\n",
       "    <tr>\n",
       "      <th>25%</th>\n",
       "      <td>13110.000000</td>\n",
       "      <td>4.000000</td>\n",
       "      <td>21000000.000000</td>\n",
       "      <td>1969.000000</td>\n",
       "      <td>60.000000</td>\n",
       "      <td>150.000000</td>\n",
       "    </tr>\n",
       "    <tr>\n",
       "      <th>50%</th>\n",
       "      <td>13117.000000</td>\n",
       "      <td>8.000000</td>\n",
       "      <td>35000000.000000</td>\n",
       "      <td>1995.000000</td>\n",
       "      <td>60.000000</td>\n",
       "      <td>200.000000</td>\n",
       "    </tr>\n",
       "    <tr>\n",
       "      <th>75%</th>\n",
       "      <td>13201.000000</td>\n",
       "      <td>12.000000</td>\n",
       "      <td>54000000.000000</td>\n",
       "      <td>2007.000000</td>\n",
       "      <td>80.000000</td>\n",
       "      <td>300.000000</td>\n",
       "    </tr>\n",
       "    <tr>\n",
       "      <th>max</th>\n",
       "      <td>13421.000000</td>\n",
       "      <td>29.000000</td>\n",
       "      <td>61000000000.000000</td>\n",
       "      <td>2020.000000</td>\n",
       "      <td>80.000000</td>\n",
       "      <td>1300.000000</td>\n",
       "    </tr>\n",
       "  </tbody>\n",
       "</table>\n",
       "</div>"
      ],
      "text/plain": [
       "       municipalitycode  timetoneareststation         tradeprice  \\\n",
       "count     406575.000000         406575.000000      406575.000000   \n",
       "mean       13140.000000              9.000000    65590699.000000   \n",
       "std           46.000000              6.000000   309289519.000000   \n",
       "min        13101.000000              0.000000         500.000000   \n",
       "25%        13110.000000              4.000000    21000000.000000   \n",
       "50%        13117.000000              8.000000    35000000.000000   \n",
       "75%        13201.000000             12.000000    54000000.000000   \n",
       "max        13421.000000             29.000000 61000000000.000000   \n",
       "\n",
       "       buildingyear  coverageratio  floorarearatio  \n",
       "count 406575.000000  406575.000000   406575.000000  \n",
       "mean    1544.000000      61.000000      262.000000  \n",
       "std      837.000000      15.000000      162.000000  \n",
       "min        0.000000       0.000000        0.000000  \n",
       "25%     1969.000000      60.000000      150.000000  \n",
       "50%     1995.000000      60.000000      200.000000  \n",
       "75%     2007.000000      80.000000      300.000000  \n",
       "max     2020.000000      80.000000     1300.000000  "
      ]
     },
     "execution_count": 126,
     "metadata": {},
     "output_type": "execute_result"
    }
   ],
   "source": [
    "df.describe().round()\n",
    "# we don't observe too much deviation (std in `tradeprice` is obvious to fluctuate)"
   ]
  },
  {
   "cell_type": "code",
   "execution_count": 127,
   "id": "c3305c53",
   "metadata": {
    "scrolled": true
   },
   "outputs": [
    {
     "data": {
      "text/plain": [
       "count        406575.000000\n",
       "mean       65590699.000000\n",
       "std       309289519.000000\n",
       "min             500.000000\n",
       "25%        21000000.000000\n",
       "50%        35000000.000000\n",
       "75%        54000000.000000\n",
       "max     61000000000.000000\n",
       "Name: tradeprice, dtype: float64"
      ]
     },
     "execution_count": 127,
     "metadata": {},
     "output_type": "execute_result"
    }
   ],
   "source": [
    "temp = df.tradeprice.astype(int)\n",
    "temp.describe().round()"
   ]
  },
  {
   "cell_type": "code",
   "execution_count": 128,
   "id": "09f70773",
   "metadata": {},
   "outputs": [],
   "source": [
    "df.to_csv('real_estate_processed.csv', index='No')"
   ]
  },
  {
   "cell_type": "markdown",
   "id": "60448784",
   "metadata": {},
   "source": [
    "# Let's observe the data"
   ]
  },
  {
   "cell_type": "code",
   "execution_count": 462,
   "id": "dd1b0c4f",
   "metadata": {},
   "outputs": [],
   "source": [
    "sns.set(rc={'figure.figsize':(12, 10)})"
   ]
  },
  {
   "cell_type": "code",
   "execution_count": 463,
   "id": "f8db7418",
   "metadata": {},
   "outputs": [
    {
     "data": {
      "text/plain": [
       "<AxesSubplot:xlabel='tradeprice', ylabel='Count'>"
      ]
     },
     "execution_count": 463,
     "metadata": {},
     "output_type": "execute_result"
    },
    {
     "data": {
      "image/png": "[encoded data removed]",
      "text/plain": [
       "<Figure size 864x720 with 1 Axes>"
      ]
     },
     "metadata": {},
     "output_type": "display_data"
    }
   ],
   "source": [
    "sns.histplot(df.tradeprice, bins=400)"
   ]
  },
  {
   "cell_type": "code",
   "execution_count": 464,
   "id": "d3b7c481",
   "metadata": {},
   "outputs": [
    {
     "data": {
      "text/plain": [
       "<AxesSubplot:xlabel='tradeprice', ylabel='Count'>"
      ]
     },
     "execution_count": 464,
     "metadata": {},
     "output_type": "execute_result"
    },
    {
     "data": {
      "image/png": "[encoded data removed]",
      "text/plain": [
       "<Figure size 864x720 with 1 Axes>"
      ]
     },
     "metadata": {},
     "output_type": "display_data"
    }
   ],
   "source": [
    "# as we have tail in data => apply log\n",
    "log_price = np.log1p(df.tradeprice)\n",
    "sns.histplot(log_price)"
   ]
  },
  {
   "cell_type": "markdown",
   "id": "52b04779",
   "metadata": {},
   "source": [
    "# V1. at first let's do all by hands and then we'll automize it with sklearn."
   ]
  },
  {
   "cell_type": "markdown",
   "id": "e9185c83",
   "metadata": {},
   "source": [
    "# Validation"
   ]
  },
  {
   "cell_type": "code",
   "execution_count": 278,
   "id": "d9a191f7",
   "metadata": {},
   "outputs": [
    {
     "data": {
      "text/plain": [
       "(243945, 81315, 81315)"
      ]
     },
     "execution_count": 278,
     "metadata": {},
     "output_type": "execute_result"
    }
   ],
   "source": [
    "length = len(df)\n",
    "test = int(length * 0.2)\n",
    "valid = int(length * 0.2)\n",
    "train = length - (test + valid)\n",
    "\n",
    "np.random.seed(4)\n",
    "index = np.arange(length)\n",
    "np.random.shuffle(index)\n",
    "df_mix = df.iloc[index]\n",
    "\n",
    "df_train = df_mix.iloc[:train].copy()\n",
    "df_valid = df_mix.iloc[train:train + valid].copy()\n",
    "df_test = df_mix.iloc[train + valid:].copy()\n",
    "\n",
    "len(df_train), len(df_valid), len(df_test)"
   ]
  },
  {
   "cell_type": "code",
   "execution_count": 279,
   "id": "25797b42",
   "metadata": {},
   "outputs": [],
   "source": [
    "y_test = np.log1p(df_test.tradeprice.values)\n",
    "y_valid = np.log1p(df_valid.tradeprice.values)\n",
    "y_train = np.log1p(df_train.tradeprice.values)\n",
    "\n",
    "del df_train['tradeprice']\n",
    "del df_test['tradeprice']\n",
    "del df_valid['tradeprice']"
   ]
  },
  {
   "cell_type": "markdown",
   "id": "8a1ee312",
   "metadata": {},
   "source": [
    "# Regression"
   ]
  },
  {
   "cell_type": "code",
   "execution_count": 280,
   "id": "64e28ea6",
   "metadata": {},
   "outputs": [],
   "source": [
    "def train_lienar_regression(X, y):\n",
    "    ones = np.ones(X.shape[0])\n",
    "    X = np.column_stack([ones, X])\n",
    "    XTX = X.T.dot(X)\n",
    "    XTX_inv = np.linalg.inv(XTX)\n",
    "    w = XTX_inv.dot(X.T).dot(y)\n",
    "    \n",
    "    return w[0], w[1:]"
   ]
  },
  {
   "cell_type": "code",
   "execution_count": 281,
   "id": "413f95f1",
   "metadata": {},
   "outputs": [
    {
     "data": {
      "text/plain": [
       "municipalitycode           int64\n",
       "timetoneareststation     float64\n",
       "frontageisgreaterflag       bool\n",
       "buildingyear               int64\n",
       "coverageratio              int64\n",
       "floorarearatio             int64\n",
       "dtype: object"
      ]
     },
     "execution_count": 281,
     "metadata": {},
     "output_type": "execute_result"
    }
   ],
   "source": [
    "df_train.dtypes[df_train.dtypes != 'object']"
   ]
  },
  {
   "cell_type": "code",
   "execution_count": 282,
   "id": "f214ff5a",
   "metadata": {},
   "outputs": [],
   "source": [
    "base = ['timetoneareststation', 'buildingyear', 'coverageratio', 'floorarearatio']\n",
    "\n",
    "def prepare_data(data):\n",
    "    X = data[base].values\n",
    "    return X"
   ]
  },
  {
   "cell_type": "code",
   "execution_count": 283,
   "id": "16fa54c1",
   "metadata": {},
   "outputs": [],
   "source": [
    "def rmse(y, y_pred):\n",
    "    error = y_pred - y\n",
    "    mse = (error ** 2).mean()\n",
    "    return np.sqrt(mse)"
   ]
  },
  {
   "cell_type": "code",
   "execution_count": 284,
   "id": "5db9d470",
   "metadata": {},
   "outputs": [],
   "source": [
    "X_train = prepare_data(df_train)\n",
    "w0, w = train_lienar_regression(X_train, y_train)\n",
    "y_pred = w0 + X_train.dot(w)"
   ]
  },
  {
   "cell_type": "code",
   "execution_count": 285,
   "id": "2757766f",
   "metadata": {},
   "outputs": [
    {
     "data": {
      "text/plain": [
       "0.9148707371339037"
      ]
     },
     "execution_count": 285,
     "metadata": {},
     "output_type": "execute_result"
    }
   ],
   "source": [
    "# to evaluate various models we'll use rmse\n",
    "rmse(y_train, y_pred)"
   ]
  },
  {
   "cell_type": "code",
   "execution_count": 286,
   "id": "d7254c0d",
   "metadata": {},
   "outputs": [
    {
     "data": {
      "text/plain": [
       "<AxesSubplot:ylabel='Count'>"
      ]
     },
     "execution_count": 286,
     "metadata": {},
     "output_type": "execute_result"
    },
    {
     "data": {
      "image/png": "[encoded data removed]",
      "text/plain": [
       "<Figure size 864x720 with 1 Axes>"
      ]
     },
     "metadata": {},
     "output_type": "display_data"
    }
   ],
   "source": [
    "sns.histplot(y_train, label='target')\n",
    "sns.histplot(y_pred, label='prediction', color='red')"
   ]
  },
  {
   "cell_type": "code",
   "execution_count": 287,
   "id": "a57bccbd",
   "metadata": {},
   "outputs": [],
   "source": [
    "X_valid = prepare_data(df_valid)\n",
    "w0, w = train_lienar_regression(X_valid, y_valid)\n",
    "y_pred = w0 + X_valid.dot(w)"
   ]
  },
  {
   "cell_type": "code",
   "execution_count": 288,
   "id": "c9f76fdb",
   "metadata": {},
   "outputs": [
    {
     "data": {
      "text/plain": [
       "0.9181976951517435"
      ]
     },
     "execution_count": 288,
     "metadata": {},
     "output_type": "execute_result"
    }
   ],
   "source": [
    "rmse(y_valid, y_pred)"
   ]
  },
  {
   "cell_type": "code",
   "execution_count": 155,
   "id": "9ac8776f",
   "metadata": {},
   "outputs": [
    {
     "data": {
      "text/plain": [
       "<AxesSubplot:ylabel='Count'>"
      ]
     },
     "execution_count": 155,
     "metadata": {},
     "output_type": "execute_result"
    },
    {
     "data": {
      "image/png": "[encoded data removed]",
      "text/plain": [
       "<Figure size 864x720 with 1 Axes>"
      ]
     },
     "metadata": {},
     "output_type": "display_data"
    }
   ],
   "source": [
    "sns.histplot(y_train, label='target')\n",
    "sns.histplot(y_pred, label='prediction', color='red')"
   ]
  },
  {
   "cell_type": "markdown",
   "id": "261a9631",
   "metadata": {},
   "source": [
    "# Feature engineering"
   ]
  },
  {
   "cell_type": "code",
   "execution_count": 156,
   "id": "ffcdbbbf",
   "metadata": {},
   "outputs": [],
   "source": [
    "# Let's try to add new columns + do so-called \"one-hot encoding\""
   ]
  },
  {
   "cell_type": "code",
   "execution_count": 289,
   "id": "7de713e9",
   "metadata": {},
   "outputs": [],
   "source": [
    "# we'll extract biggest numbers of categorical variables\n",
    "# and do one-hot encoding\n",
    "\n",
    "from datetime import datetime\n",
    "\n",
    "def prepare_data_encoding(data):\n",
    "    data = data.copy()\n",
    "    features = base.copy()\n",
    "    data['age'] = datetime.now().year - data.buildingyear\n",
    "    \n",
    "    for i in [13112, 13111, 13120, 13121, 13115, 13119, 13201, 13108]:\n",
    "        feature = 'municipality_code_%s' % i\n",
    "        data[feature] = (data['municipalitycode'] == i).astype(int)\n",
    "        features.append(feature)\n",
    "    \n",
    "    for i in ['pre-owned_condominiums', 'residential_land(land_and_building)', 'residential_land(land_only)',\n",
    "              'forest_land', 'agricultural_land']:\n",
    "        feature = 'type_%s' % i\n",
    "        data[feature] = (data['type'] == i).astype(int)\n",
    "        features.append(feature)\n",
    "    \n",
    "    for i in ['setagaya_ward', 'ota_ward', 'nerima_ward', 'adachi_ward', 'suginami_ward',\n",
    "              'itabashi_ward', 'hachioji_city', 'koto_ward']:\n",
    "        feature = 'municipality_%s' % i\n",
    "        data[feature] = (data['municipality'] == i).astype(int)\n",
    "        features.append(feature)\n",
    "    \n",
    "    for i in ['honcho', 'chuo', 'kameido', 'sakaecho', 'shimmachi',\n",
    "              'ojima', 'nishishinjuku', 'minamioi']:\n",
    "        feature = 'districtname_%s' % i\n",
    "        data[feature] = (data['districtname'] == i).astype(int)\n",
    "        features.append(feature)\n",
    "    \n",
    "    for i in ['hachioji', 'oizumigakuen', 'shinkoiwa', 'kanamachi', 'mitaka',\n",
    "              'koiwa', 'ogikubo', 'musashikoganei']:\n",
    "        feature = 'neareststation_%s' % i\n",
    "        data[feature] = (data['neareststation'] == i).astype(int)\n",
    "        features.append(feature)\n",
    "    \n",
    "    for i in ['rc', 'w', 'src', 's', 'ls', 'rc,_w', 's,_w', 'src,_rc']:\n",
    "        feature = 'structure_%s' % i\n",
    "        data[feature] = (data['structure'] == i).astype(int)\n",
    "        features.append(feature)\n",
    "    \n",
    "    for i in ['house', 'housing_complex', 'house,_shop', 'office', 'shop',\n",
    "              'housing_complex,_shop', 'office,_shop', 'house,_office']:\n",
    "        feature = 'use_%s' % i\n",
    "        data[feature] = (data['use'] == i).astype(int)\n",
    "        features.append(feature)\n",
    "    \n",
    "    for i in ['category_i_exclusively_low-story_residential_zone', 'commercial_zone', 'category_i_exclusively_medium-high_residential_zone',\n",
    "              'quasi-industrial_zone', 'category_i_residential_zone', 'neighborhood_commercial_zone',\n",
    "              'category_ii_exclusively_medium-high_residential_zone', 'category_ii_residential_zone']:\n",
    "        \n",
    "        feature = 'cityplanning_%s' % i\n",
    "        data[feature] = (data['cityplanning'] == i).astype(int)\n",
    "        features.append(feature)\n",
    "    \n",
    "    \n",
    "    X = data[features].values\n",
    "    return X"
   ]
  },
  {
   "cell_type": "code",
   "execution_count": 290,
   "id": "69a4ac1f",
   "metadata": {},
   "outputs": [
    {
     "name": "stdout",
     "output_type": "stream",
     "text": [
      "training: 0.9148707371339037\n",
      "validation: 1430.7816324267746\n"
     ]
    }
   ],
   "source": [
    "X_valid = prepare_data_encoding(df_train)\n",
    "w0, w = train_lienar_regression(X_train, y_train)\n",
    "y_pred = w0 + X_train.dot(w)\n",
    "print('training:', rmse(y_train, y_pred))\n",
    "\n",
    "X_valid = prepare_data_encoding(df_valid)\n",
    "w0, w = train_lienar_regression(X_valid, y_valid)\n",
    "y_pred = w0 + X_valid.dot(w)\n",
    "print('validation:', rmse(y_valid, y_pred))"
   ]
  },
  {
   "cell_type": "raw",
   "id": "3c8552e5",
   "metadata": {},
   "source": [
    "As we see with `validation`, there're too large numbers. To deal with it we're to implement special technique"
   ]
  },
  {
   "cell_type": "markdown",
   "id": "e0cae512",
   "metadata": {},
   "source": [
    "# Regularization"
   ]
  },
  {
   "cell_type": "code",
   "execution_count": 129,
   "id": "c57e9760",
   "metadata": {},
   "outputs": [],
   "source": [
    "def train_linear_regression_reg(X, y, r=0.0):\n",
    "    ones = np.ones(X.shape[0])\n",
    "    X = np.column_stack([ones, X])\n",
    "    XTX = X.T.dot(X)\n",
    "    \n",
    "    reg = r * np.eye(XTX.shape[0])\n",
    "    XTX = XTX + reg\n",
    "    \n",
    "    XTX_inv = np.linalg.inv(XTX)\n",
    "    w = XTX_inv.dot(X.T).dot(y)\n",
    "    \n",
    "    return w[0], w[1:]"
   ]
  },
  {
   "cell_type": "code",
   "execution_count": 130,
   "id": "43ce94ba",
   "metadata": {},
   "outputs": [
    {
     "ename": "NameError",
     "evalue": "name 'prepare_data_encoding' is not defined",
     "output_type": "error",
     "traceback": [
      "\u001b[0;31m---------------------------------------------------------------------------\u001b[0m",
      "\u001b[0;31mNameError\u001b[0m                                 Traceback (most recent call last)",
      "\u001b[0;32m<ipython-input-130-4530b3c0346c>\u001b[0m in \u001b[0;36m<module>\u001b[0;34m\u001b[0m\n\u001b[0;32m----> 1\u001b[0;31m \u001b[0mX_train\u001b[0m \u001b[0;34m=\u001b[0m \u001b[0mprepare_data_encoding\u001b[0m\u001b[0;34m(\u001b[0m\u001b[0mdf_train\u001b[0m\u001b[0;34m)\u001b[0m\u001b[0;34m\u001b[0m\u001b[0;34m\u001b[0m\u001b[0m\n\u001b[0m\u001b[1;32m      2\u001b[0m \u001b[0mX_valid\u001b[0m \u001b[0;34m=\u001b[0m \u001b[0mprepare_data_encoding\u001b[0m\u001b[0;34m(\u001b[0m\u001b[0mdf_valid\u001b[0m\u001b[0;34m)\u001b[0m\u001b[0;34m\u001b[0m\u001b[0;34m\u001b[0m\u001b[0m\n\u001b[1;32m      3\u001b[0m \u001b[0;34m\u001b[0m\u001b[0m\n\u001b[1;32m      4\u001b[0m \u001b[0;32mfor\u001b[0m \u001b[0mr\u001b[0m \u001b[0;32min\u001b[0m \u001b[0;34m[\u001b[0m\u001b[0;36m0.000001\u001b[0m\u001b[0;34m,\u001b[0m \u001b[0;36m0.0001\u001b[0m\u001b[0;34m,\u001b[0m \u001b[0;36m0.001\u001b[0m\u001b[0;34m,\u001b[0m \u001b[0;36m0.01\u001b[0m\u001b[0;34m,\u001b[0m \u001b[0;36m0.1\u001b[0m\u001b[0;34m,\u001b[0m \u001b[0;36m1\u001b[0m\u001b[0;34m,\u001b[0m \u001b[0;36m5\u001b[0m\u001b[0;34m,\u001b[0m \u001b[0;36m10\u001b[0m\u001b[0;34m]\u001b[0m\u001b[0;34m:\u001b[0m\u001b[0;34m\u001b[0m\u001b[0;34m\u001b[0m\u001b[0m\n\u001b[1;32m      5\u001b[0m     \u001b[0mw0\u001b[0m\u001b[0;34m,\u001b[0m \u001b[0mw\u001b[0m \u001b[0;34m=\u001b[0m \u001b[0mtrain_linear_regression_reg\u001b[0m\u001b[0;34m(\u001b[0m\u001b[0mX_train\u001b[0m\u001b[0;34m,\u001b[0m \u001b[0my_train\u001b[0m\u001b[0;34m,\u001b[0m \u001b[0mr\u001b[0m\u001b[0;34m=\u001b[0m\u001b[0mr\u001b[0m\u001b[0;34m)\u001b[0m\u001b[0;34m\u001b[0m\u001b[0;34m\u001b[0m\u001b[0m\n",
      "\u001b[0;31mNameError\u001b[0m: name 'prepare_data_encoding' is not defined"
     ]
    }
   ],
   "source": [
    "X_train = prepare_data_encoding(df_train)\n",
    "X_valid = prepare_data_encoding(df_valid)\n",
    "\n",
    "for r in [0.000001, 0.0001, 0.001, 0.01, 0.1, 1, 5, 10]:\n",
    "    w0, w = train_linear_regression_reg(X_train, y_train, r=r)\n",
    "    y_pred = w0 + X_train.dot(w)\n",
    "    print('training:', round(rmse(y_train, y_pred), 6))\n",
    "\n",
    "print('Split')\n",
    "\n",
    "for r in [0.000001, 0.0001, 0.001, 0.01, 0.1, 1, 5, 10]:\n",
    "    w0, w = train_linear_regression_reg(X_valid, y_valid, r=r)\n",
    "    y_pred = w0 + X_valid.dot(w)\n",
    "    print('validation:', round(rmse(y_valid, y_pred), 6))  "
   ]
  },
  {
   "cell_type": "raw",
   "id": "3a72a409",
   "metadata": {},
   "source": [
    "Choose smallest rmse. If values are similar between many, opt for the one with\n",
    "smaller regularization"
   ]
  },
  {
   "cell_type": "code",
   "execution_count": 293,
   "id": "a08c0826",
   "metadata": {},
   "outputs": [
    {
     "name": "stdout",
     "output_type": "stream",
     "text": [
      "training: 0.7634088169053568\n",
      "validation: 0.7652318145542678\n"
     ]
    }
   ],
   "source": [
    "X_valid = prepare_data_encoding(df_train)\n",
    "w0, w = train_linear_regression_reg(X_train, y_train, r=0.0001)\n",
    "y_pred = w0 + X_train.dot(w)\n",
    "print('training:', rmse(y_train, y_pred))\n",
    "\n",
    "X_valid = prepare_data_encoding(df_valid)\n",
    "w0, w = train_linear_regression_reg(X_valid, y_valid, r=0.0001)\n",
    "y_pred = w0 + X_valid.dot(w)\n",
    "print('validation:', rmse(y_valid, y_pred))"
   ]
  },
  {
   "cell_type": "code",
   "execution_count": 294,
   "id": "d46407c5",
   "metadata": {},
   "outputs": [
    {
     "name": "stdout",
     "output_type": "stream",
     "text": [
      "test: 0.7645848127297242\n"
     ]
    }
   ],
   "source": [
    "X_test = prepare_data_encoding(df_test)\n",
    "w0, w = train_linear_regression_reg(X_test, y_test, r=0.0001)\n",
    "y_pred = w0 + X_test.dot(w)\n",
    "print('test:', rmse(y_test, y_pred))"
   ]
  },
  {
   "cell_type": "code",
   "execution_count": 295,
   "id": "d23926e7",
   "metadata": {},
   "outputs": [
    {
     "data": {
      "text/plain": [
       "{'type': 'pre-owned_condominiums',\n",
       " 'municipalitycode': 13102,\n",
       " 'prefecture': 'tokyo',\n",
       " 'municipality': 'chuo_ward',\n",
       " 'districtname': 'hatchobori',\n",
       " 'neareststation': 'hatchobori_(tokyo)',\n",
       " 'timetoneareststation': 2.0,\n",
       " 'tradeprice': 27000000,\n",
       " 'frontageisgreaterflag': False,\n",
       " 'buildingyear': 2005,\n",
       " 'structure': 'rc',\n",
       " 'use': 'house',\n",
       " 'cityplanning': 'commercial_zone',\n",
       " 'coverageratio': 80,\n",
       " 'floorarearatio': 500}"
      ]
     },
     "execution_count": 295,
     "metadata": {},
     "output_type": "execute_result"
    }
   ],
   "source": [
    "i = 5638\n",
    "test_case = df.iloc[i].to_dict()\n",
    "test_case"
   ]
  },
  {
   "cell_type": "code",
   "execution_count": 296,
   "id": "abd2ca86",
   "metadata": {},
   "outputs": [],
   "source": [
    "X_test_case = prepare_data_encoding(df[test_case])[0]\n",
    "y_pred = w0 + X_test_case.dot(w)\n",
    "price = np.expm1(y_pred)"
   ]
  },
  {
   "cell_type": "code",
   "execution_count": 297,
   "id": "85c8238e",
   "metadata": {},
   "outputs": [
    {
     "data": {
      "text/plain": [
       "70200.91037957743"
      ]
     },
     "execution_count": 297,
     "metadata": {},
     "output_type": "execute_result"
    }
   ],
   "source": [
    "abs(price - 27000000)"
   ]
  },
  {
   "cell_type": "code",
   "execution_count": 298,
   "id": "c10ba1b5",
   "metadata": {},
   "outputs": [
    {
     "data": {
      "text/plain": [
       "26929799.089620423"
      ]
     },
     "execution_count": 298,
     "metadata": {},
     "output_type": "execute_result"
    }
   ],
   "source": [
    "price\n",
    "# pretty accurate. Let's do sklearn variant"
   ]
  },
  {
   "cell_type": "code",
   "execution_count": null,
   "id": "7a6524f0",
   "metadata": {},
   "outputs": [],
   "source": []
  },
  {
   "cell_type": "markdown",
   "id": "70e44966",
   "metadata": {},
   "source": [
    "# V2. Now let's do all with sklearn"
   ]
  },
  {
   "cell_type": "code",
   "execution_count": 131,
   "id": "6b0e4c30",
   "metadata": {},
   "outputs": [],
   "source": [
    "from sklearn.linear_model import LinearRegression, Ridge\n",
    "from sklearn.model_selection import train_test_split\n",
    "from sklearn.feature_extraction import DictVectorizer"
   ]
  },
  {
   "cell_type": "markdown",
   "id": "0a425385",
   "metadata": {},
   "source": [
    "# Validation"
   ]
  },
  {
   "cell_type": "code",
   "execution_count": 132,
   "id": "3f8f671b",
   "metadata": {},
   "outputs": [],
   "source": [
    "# add custom column\n",
    "from datetime import datetime\n",
    "\n",
    "df['age'] = datetime.now().year - df.buildingyear"
   ]
  },
  {
   "cell_type": "code",
   "execution_count": 133,
   "id": "6a3a3f73",
   "metadata": {},
   "outputs": [],
   "source": [
    "full_train, full_test = train_test_split(df, test_size=0.2, random_state=4)\n",
    "train, valid = train_test_split(full_train, test_size=0.33, random_state=2)"
   ]
  },
  {
   "cell_type": "code",
   "execution_count": 134,
   "id": "e0d81913",
   "metadata": {},
   "outputs": [],
   "source": [
    "y_train_sk = np.log1p(train.tradeprice.values)\n",
    "y_valid_sk = np.log1p(valid.tradeprice.values)\n",
    "\n",
    "del train['tradeprice']\n",
    "del valid['tradeprice']"
   ]
  },
  {
   "cell_type": "code",
   "execution_count": 135,
   "id": "1947c78b",
   "metadata": {},
   "outputs": [],
   "source": [
    "numerical = ['timetoneareststation', 'buildingyear', 'coverageratio', 'floorarearatio']\n",
    "\n",
    "categorical = ['type', 'municipality', 'districtname', 'neareststation',\n",
    "               'structure', 'use', 'cityplanning', 'municipalitycode']"
   ]
  },
  {
   "cell_type": "code",
   "execution_count": 136,
   "id": "5e183423",
   "metadata": {},
   "outputs": [
    {
     "data": {
      "text/plain": [
       "type                     object\n",
       "municipalitycode          int64\n",
       "prefecture               object\n",
       "municipality             object\n",
       "districtname             object\n",
       "neareststation           object\n",
       "timetoneareststation      int64\n",
       "tradeprice                int64\n",
       "frontageisgreaterflag      bool\n",
       "buildingyear              int64\n",
       "structure                object\n",
       "use                      object\n",
       "cityplanning             object\n",
       "coverageratio             int64\n",
       "floorarearatio            int64\n",
       "age                       int64\n",
       "dtype: object"
      ]
     },
     "execution_count": 136,
     "metadata": {},
     "output_type": "execute_result"
    }
   ],
   "source": [
    "df.dtypes"
   ]
  },
  {
   "cell_type": "code",
   "execution_count": 137,
   "id": "e827773e",
   "metadata": {},
   "outputs": [
    {
     "data": {
      "text/html": [
       "<div>\n",
       "<style scoped>\n",
       "    .dataframe tbody tr th:only-of-type {\n",
       "        vertical-align: middle;\n",
       "    }\n",
       "\n",
       "    .dataframe tbody tr th {\n",
       "        vertical-align: top;\n",
       "    }\n",
       "\n",
       "    .dataframe thead th {\n",
       "        text-align: right;\n",
       "    }\n",
       "</style>\n",
       "<table border=\"1\" class=\"dataframe\">\n",
       "  <thead>\n",
       "    <tr style=\"text-align: right;\">\n",
       "      <th></th>\n",
       "      <th>corr</th>\n",
       "    </tr>\n",
       "  </thead>\n",
       "  <tbody>\n",
       "    <tr>\n",
       "      <th>timetoneareststation</th>\n",
       "      <td>-0.036580</td>\n",
       "    </tr>\n",
       "    <tr>\n",
       "      <th>buildingyear</th>\n",
       "      <td>-0.034077</td>\n",
       "    </tr>\n",
       "    <tr>\n",
       "      <th>coverageratio</th>\n",
       "      <td>0.038186</td>\n",
       "    </tr>\n",
       "    <tr>\n",
       "      <th>floorarearatio</th>\n",
       "      <td>0.066120</td>\n",
       "    </tr>\n",
       "  </tbody>\n",
       "</table>\n",
       "</div>"
      ],
      "text/plain": [
       "                          corr\n",
       "timetoneareststation -0.036580\n",
       "buildingyear         -0.034077\n",
       "coverageratio         0.038186\n",
       "floorarearatio        0.066120"
      ]
     },
     "execution_count": 137,
     "metadata": {},
     "output_type": "execute_result"
    }
   ],
   "source": [
    "# Let's observe corr for numerical\n",
    "df[numerical].corrwith(df.tradeprice).to_frame('corr')"
   ]
  },
  {
   "cell_type": "code",
   "execution_count": 138,
   "id": "489f9297",
   "metadata": {},
   "outputs": [],
   "source": [
    "# Let's observe degree of connection between categorical data\n",
    "from sklearn.metrics import mutual_info_score\n",
    "\n",
    "def calculate_MI(series):\n",
    "    return mutual_info_score(series, df.tradeprice)\n",
    "\n",
    "result_MI = df[categorical].apply(calculate_MI)\n",
    "\n",
    "result = result_MI.sort_values(ascending=False).to_frame(name='Mut. info')"
   ]
  },
  {
   "cell_type": "code",
   "execution_count": 139,
   "id": "e5528871",
   "metadata": {},
   "outputs": [
    {
     "data": {
      "text/html": [
       "<div>\n",
       "<style scoped>\n",
       "    .dataframe tbody tr th:only-of-type {\n",
       "        vertical-align: middle;\n",
       "    }\n",
       "\n",
       "    .dataframe tbody tr th {\n",
       "        vertical-align: top;\n",
       "    }\n",
       "\n",
       "    .dataframe thead th {\n",
       "        text-align: right;\n",
       "    }\n",
       "</style>\n",
       "<table border=\"1\" class=\"dataframe\">\n",
       "  <thead>\n",
       "    <tr style=\"text-align: right;\">\n",
       "      <th></th>\n",
       "      <th>Mut. info</th>\n",
       "    </tr>\n",
       "  </thead>\n",
       "  <tbody>\n",
       "    <tr>\n",
       "      <th>districtname</th>\n",
       "      <td>0.487143</td>\n",
       "    </tr>\n",
       "    <tr>\n",
       "      <th>neareststation</th>\n",
       "      <td>0.335338</td>\n",
       "    </tr>\n",
       "    <tr>\n",
       "      <th>municipalitycode</th>\n",
       "      <td>0.131680</td>\n",
       "    </tr>\n",
       "    <tr>\n",
       "      <th>municipality</th>\n",
       "      <td>0.131680</td>\n",
       "    </tr>\n",
       "    <tr>\n",
       "      <th>type</th>\n",
       "      <td>0.111030</td>\n",
       "    </tr>\n",
       "    <tr>\n",
       "      <th>use</th>\n",
       "      <td>0.092259</td>\n",
       "    </tr>\n",
       "    <tr>\n",
       "      <th>structure</th>\n",
       "      <td>0.084677</td>\n",
       "    </tr>\n",
       "    <tr>\n",
       "      <th>cityplanning</th>\n",
       "      <td>0.055543</td>\n",
       "    </tr>\n",
       "  </tbody>\n",
       "</table>\n",
       "</div>"
      ],
      "text/plain": [
       "                  Mut. info\n",
       "districtname       0.487143\n",
       "neareststation     0.335338\n",
       "municipalitycode   0.131680\n",
       "municipality       0.131680\n",
       "type               0.111030\n",
       "use                0.092259\n",
       "structure          0.084677\n",
       "cityplanning       0.055543"
      ]
     },
     "execution_count": 139,
     "metadata": {},
     "output_type": "execute_result"
    }
   ],
   "source": [
    "result"
   ]
  },
  {
   "cell_type": "code",
   "execution_count": 140,
   "id": "00a65e32",
   "metadata": {},
   "outputs": [],
   "source": [
    "train_dict = train[numerical + categorical].to_dict(orient='records')"
   ]
  },
  {
   "cell_type": "code",
   "execution_count": 141,
   "id": "1ed60232",
   "metadata": {},
   "outputs": [],
   "source": [
    "dv = DictVectorizer(sparse=False)\n",
    "dv.fit(train_dict)\n",
    "X_train = dv.transform(train_dict)"
   ]
  },
  {
   "cell_type": "markdown",
   "id": "0b7aaa94",
   "metadata": {},
   "source": [
    "model = LinearRegression()\n",
    "model.fit(X_train, y_train_sk)"
   ]
  },
  {
   "cell_type": "code",
   "execution_count": 142,
   "id": "dd2898a9",
   "metadata": {},
   "outputs": [
    {
     "data": {
      "text/plain": [
       "Ridge()"
      ]
     },
     "execution_count": 142,
     "metadata": {},
     "output_type": "execute_result"
    }
   ],
   "source": [
    "model = Ridge()\n",
    "model.fit(X_train, y_train_sk)"
   ]
  },
  {
   "cell_type": "code",
   "execution_count": 143,
   "id": "4dd627d3",
   "metadata": {},
   "outputs": [],
   "source": [
    "valid_dict = valid[numerical + categorical].to_dict(orient='records')\n",
    "X_valid = dv.transform(valid_dict)"
   ]
  },
  {
   "cell_type": "code",
   "execution_count": 144,
   "id": "07a2c42d",
   "metadata": {},
   "outputs": [
    {
     "data": {
      "text/plain": [
       "array([19.17932343, 17.99522683, 17.26699879, ..., 17.75590596,\n",
       "       17.54498166, 17.60672858])"
      ]
     },
     "execution_count": 144,
     "metadata": {},
     "output_type": "execute_result"
    }
   ],
   "source": [
    "y_pred = model.predict(X_valid)\n",
    "y_pred"
   ]
  },
  {
   "cell_type": "code",
   "execution_count": 145,
   "id": "3caaae30",
   "metadata": {},
   "outputs": [],
   "source": [
    "def rmse(y, y_pred):\n",
    "    error = y_pred - y\n",
    "    mse = (error ** 2).mean()\n",
    "    return np.sqrt(mse)"
   ]
  },
  {
   "cell_type": "code",
   "execution_count": 75,
   "id": "101fcd89",
   "metadata": {},
   "outputs": [
    {
     "data": {
      "text/plain": [
       "0.6903508542090744"
      ]
     },
     "execution_count": 75,
     "metadata": {},
     "output_type": "execute_result"
    }
   ],
   "source": [
    "rmse(y_valid_sk, y_pred)"
   ]
  },
  {
   "cell_type": "code",
   "execution_count": 146,
   "id": "0d5dc2ce",
   "metadata": {},
   "outputs": [],
   "source": [
    "from sklearn.metrics import mean_squared_error, r2_score\n",
    "\n",
    "def metrics(y_test, y_pred, X_train):\n",
    "    rmse = np.sqrt(mean_squared_error(y_test, y_pred))\n",
    "    r2 = r2_score(y_test, y_pred)\n",
    "    \n",
    "    n = y_pred.shape[0]\n",
    "    k = X_train.shape[1]\n",
    "    \n",
    "    adjusted = 1 - (1 - r2) * (n - 1) / (n - 1 - k)\n",
    "    return rmse, r2, adjusted"
   ]
  },
  {
   "cell_type": "code",
   "execution_count": 149,
   "id": "1c9b5411",
   "metadata": {},
   "outputs": [
    {
     "data": {
      "text/plain": [
       "(0.6903508542090744, 0.4420570848909552, 0.42939951985413294)"
      ]
     },
     "execution_count": 149,
     "metadata": {},
     "output_type": "execute_result"
    }
   ],
   "source": [
    "metrics(y_valid_sk, y_pred, X_valid)"
   ]
  },
  {
   "cell_type": "markdown",
   "id": "b925bfd3",
   "metadata": {},
   "source": [
    "# Let's check test part"
   ]
  },
  {
   "cell_type": "code",
   "execution_count": 151,
   "id": "f3c4918b",
   "metadata": {},
   "outputs": [],
   "source": [
    "y_test_sk = np.log1p(full_test.tradeprice.values)\n",
    "\n",
    "del full_test['tradeprice']"
   ]
  },
  {
   "cell_type": "code",
   "execution_count": 152,
   "id": "f5ab260f",
   "metadata": {},
   "outputs": [],
   "source": [
    "test_dict = full_test[numerical + categorical].to_dict(orient='records')\n",
    "X_test = dv.transform(test_dict)"
   ]
  },
  {
   "cell_type": "code",
   "execution_count": 153,
   "id": "9dccd427",
   "metadata": {},
   "outputs": [
    {
     "data": {
      "text/plain": [
       "array([17.8547528 , 17.81426108, 17.2021826 , ..., 16.44686999,\n",
       "       17.11263744, 17.55225053])"
      ]
     },
     "execution_count": 153,
     "metadata": {},
     "output_type": "execute_result"
    }
   ],
   "source": [
    "y_pred = model.predict(X_test)\n",
    "y_pred"
   ]
  },
  {
   "cell_type": "code",
   "execution_count": 154,
   "id": "167208e7",
   "metadata": {},
   "outputs": [
    {
     "data": {
      "text/plain": [
       "0.6907305706271688"
      ]
     },
     "execution_count": 154,
     "metadata": {},
     "output_type": "execute_result"
    }
   ],
   "source": [
    "rmse(y_test_sk, y_pred)"
   ]
  },
  {
   "cell_type": "code",
   "execution_count": 156,
   "id": "17ae451d",
   "metadata": {},
   "outputs": [
    {
     "data": {
      "image/png": "[encoded data removed]",
      "text/plain": [
       "<Figure size 432x288 with 1 Axes>"
      ]
     },
     "metadata": {
      "needs_background": "light"
     },
     "output_type": "display_data"
    }
   ],
   "source": [
    "sns.histplot(y_pred, label='prediction', color='red')\n",
    "sns.histplot(y_test_sk, label='target')\n",
    "plt.legend()\n",
    "plt.show()"
   ]
  },
  {
   "cell_type": "markdown",
   "id": "0d2e59ab",
   "metadata": {},
   "source": [
    "# Let's test data from dataset to see how well prediction is done"
   ]
  },
  {
   "cell_type": "code",
   "execution_count": 52,
   "id": "0014a8c0",
   "metadata": {},
   "outputs": [
    {
     "data": {
      "text/plain": [
       "[{'type': 'residential_land(land_and_building)',\n",
       "  'municipalitycode': 13206,\n",
       "  'prefecture': 'tokyo',\n",
       "  'municipality': 'fuchu_city',\n",
       "  'districtname': 'saiwaicho',\n",
       "  'neareststation': 'fuchu_(tokyo)',\n",
       "  'timetoneareststation': 11,\n",
       "  'tradeprice': 69000000,\n",
       "  'frontageisgreaterflag': False,\n",
       "  'buildingyear': 2010,\n",
       "  'structure': 'w',\n",
       "  'use': 'house',\n",
       "  'cityplanning': 'category_i_exclusively_low-story_residential_zone',\n",
       "  'coverageratio': 50,\n",
       "  'floorarearatio': 100,\n",
       "  'age': 11}]"
      ]
     },
     "execution_count": 52,
     "metadata": {},
     "output_type": "execute_result"
    }
   ],
   "source": [
    "idx = 304932\n",
    "final_test = [df.iloc[idx].to_dict()]\n",
    "final_test"
   ]
  },
  {
   "cell_type": "code",
   "execution_count": 53,
   "id": "0c5dabf6",
   "metadata": {},
   "outputs": [],
   "source": [
    "X_test_result = dv.transform(final_test)\n",
    "res = model.predict(X_test_result)[0]\n",
    "price_prediction = np.expm1(res)"
   ]
  },
  {
   "cell_type": "code",
   "execution_count": 54,
   "id": "d2239706",
   "metadata": {},
   "outputs": [
    {
     "data": {
      "text/plain": [
       "51446344.13865256"
      ]
     },
     "execution_count": 54,
     "metadata": {},
     "output_type": "execute_result"
    }
   ],
   "source": [
    "price_prediction"
   ]
  },
  {
   "cell_type": "markdown",
   "id": "2a3798c9",
   "metadata": {},
   "source": [
    "# Calculating fluctuations"
   ]
  },
  {
   "cell_type": "code",
   "execution_count": 55,
   "id": "66c5338e",
   "metadata": {},
   "outputs": [],
   "source": [
    "import random\n",
    "\n",
    "def get_random(start=2500, end=320000):\n",
    "    return random.randint(start, end)"
   ]
  },
  {
   "cell_type": "code",
   "execution_count": 56,
   "id": "ad73f3e5",
   "metadata": {},
   "outputs": [],
   "source": [
    "def calculate_difference(price, prediction):\n",
    "    result = (prediction / price) * 100\n",
    "    return round(result, 2)"
   ]
  },
  {
   "cell_type": "code",
   "execution_count": 57,
   "id": "70b5f98d",
   "metadata": {},
   "outputs": [],
   "source": [
    "def check_fluctuation(dv, model):\n",
    "    \n",
    "    all_data = {}\n",
    "\n",
    "    # hasttable will 'eat-up' similar idx\n",
    "    # hence we'll get only unqiue ones\n",
    "    while len(all_data) != 20:\n",
    "        random_idx = get_random()\n",
    "        data = [df.iloc[random_idx].to_dict()]\n",
    "\n",
    "        X_test_result = dv.transform(data)\n",
    "        result = model.predict(X_test_result)[0]\n",
    "        price_prediction = np.expm1(result)\n",
    "        \n",
    "        tradeprice = data[0].get('tradeprice')\n",
    "        all_data[random_idx] = [tradeprice, round(price_prediction, 2),\n",
    "                                calculate_difference(tradeprice, price_prediction)]\n",
    "    \n",
    "    total = []\n",
    "    for value in all_data.values():\n",
    "        total.append(value[2])\n",
    "    \n",
    "    overall_percentage = sum(total) / len(total)\n",
    "    \n",
    "    print(f\"Overall percentage difference: {overall_percentage}\")\n",
    "    return all_data\n"
   ]
  },
  {
   "cell_type": "code",
   "execution_count": 63,
   "id": "81571a49",
   "metadata": {},
   "outputs": [
    {
     "name": "stdout",
     "output_type": "stream",
     "text": [
      "Overall percentage difference: 174.051\n"
     ]
    },
    {
     "data": {
      "text/plain": [
       "{271975: [42000000, 22068083.69, 52.54],\n",
       " 84481: [17000000, 20048218.95, 117.93],\n",
       " 178666: [44000000, 23481104.8, 53.37],\n",
       " 177151: [82000000, 40593869.9, 49.5],\n",
       " 259653: [48000000, 44606768.28, 92.93],\n",
       " 21290: [4000000, 41982614.55, 1049.57],\n",
       " 231016: [17000000, 62554877.98, 367.97],\n",
       " 6627: [29000000, 48850638.89, 168.45],\n",
       " 204879: [6300000, 20785200.93, 329.92],\n",
       " 156141: [20000000, 21777025.65, 108.89],\n",
       " 216384: [32000000, 20851502.96, 65.16],\n",
       " 89808: [30000000, 34502135.27, 115.01],\n",
       " 167846: [15000000, 23496815.32, 156.65],\n",
       " 114650: [78000000, 70574247.5, 90.48],\n",
       " 318756: [46000000, 43306018.25, 94.14],\n",
       " 316497: [47000000, 35363249.53, 75.24],\n",
       " 178125: [37000000, 72891104.75, 197.0],\n",
       " 54900: [22000000, 22498641.84, 102.27],\n",
       " 122967: [43000000, 36992616.09, 86.03],\n",
       " 150830: [54000000, 58305193.03, 107.97]}"
      ]
     },
     "execution_count": 63,
     "metadata": {},
     "output_type": "execute_result"
    }
   ],
   "source": [
    "check_fluctuation(dv, model)"
   ]
  },
  {
   "cell_type": "code",
   "execution_count": null,
   "id": "e1e3e20d",
   "metadata": {},
   "outputs": [],
   "source": []
  },
  {
   "cell_type": "markdown",
   "id": "e9c2b036",
   "metadata": {},
   "source": [
    "# Custom data"
   ]
  },
  {
   "cell_type": "code",
   "execution_count": null,
   "id": "8e6d6978",
   "metadata": {},
   "outputs": [],
   "source": []
  }
 ],
 "metadata": {
  "kernelspec": {
   "display_name": "Python 3",
   "language": "python",
   "name": "python3"
  },
  "language_info": {
   "codemirror_mode": {
    "name": "ipython",
    "version": 3
   },
   "file_extension": ".py",
   "mimetype": "text/x-python",
   "name": "python",
   "nbconvert_exporter": "python",
   "pygments_lexer": "ipython3",
   "version": "3.8.10"
  }
 },
 "nbformat": 4,
 "nbformat_minor": 5
}
